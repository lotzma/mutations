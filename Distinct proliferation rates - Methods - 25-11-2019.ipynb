{
 "cells": [
  {
   "cell_type": "markdown",
   "metadata": {},
   "source": [
    "<img style=\"float: left; width: 220px;\" src=\"images/shutterstock_318255209.jpg\">\n",
    "\n",
    "## <font color=\"grey\"> $\\quad$ Distinct proliferation rates - Methods </font>\n",
    "\n",
    "$\\newcommand{\\vct}[1]{\\mathbf{#1}}$\n",
    "$\\newcommand{\\mtx}[1]{\\mathbf{#1}}$\n",
    "$\\newcommand{\\e}{\\varepsilon}$\n",
    "$\\newcommand{\\norm}[1]{\\|#1\\|}$\n",
    "$\\newcommand{\\minimize}{\\mathrm{minimize}\\quad}$\n",
    "$\\newcommand{\\maximize}{\\mathrm{maximize}\\quad}$\n",
    "$\\newcommand{\\subjto}{\\quad\\text{subject to}\\quad}$\n",
    "$\\newcommand{\\R}{\\mathbb{R}}$\n",
    "$\\newcommand{\\trans}{T}$\n",
    "$\\newcommand{\\ip}[2]{\\langle {#1}, {#2} \\rangle}$\n",
    "$\\newcommand{\\zerovct}{\\vct{0}}$\n",
    "$\\newcommand{\\diff}[1]{\\mathrm{d}{#1}}$\n",
    "$\\newcommand{\\conv}{\\operatorname{conv}}$\n",
    "$\\newcommand{\\inter}{{\\operatorname{int}}}$"
   ]
  },
  {
   "cell_type": "markdown",
   "metadata": {},
   "source": [
    "### <font color=\"grey\">  Table of Contents</font>\n",
    "\n",
    "1. #### <a href='#chapter1'>Data preparation.</a>\n",
    "\n",
    "2. #### <a href='#chapter2'>The molecular subtypes of melanoma present distinct ratios of clock-like mutations per unit of time.</a>\n",
    "\n",
    "3. #### <a href='#chapter3'>Aging affects the intrinsic mutation rate of the molecular subtypes.</a>\n",
    "\n",
    "4. #### <a href='#chapter4'>Signature 1 and signature 7 mutations are tightly correlated and together contribute to melanoma across all molecular subtypes.</a>\n",
    "\n",
    "5. #### <a href='#chapter5'>The proportion and spectra of intrinsic and extrinsic mutations varies according to gender.</a>"
   ]
  },
  {
   "cell_type": "code",
   "execution_count": 2,
   "metadata": {},
   "outputs": [],
   "source": [
    "# Relevant R libraries\n",
    "library(MASS)\n",
    "library(robustbase)\n",
    "library(robust)\n",
    "library(ggplot2)\n",
    "library(sfsmisc)\n",
    "library(repr)\n",
    "library(AER)\n",
    "library(vcd)\n",
    "library(zoo)\n",
    "options(repr.plot.width=8, repr.plot.height=3)\n",
    "library(gridExtra)\n",
    "library(nnls)\n",
    "library(stringr)\n",
    "library(boot)\n",
    "library(ggsci)\n",
    "library(scales)"
   ]
  },
  {
   "cell_type": "markdown",
   "metadata": {},
   "source": [
    "<a id='chapter1'></a>\n",
    "###  <a id='chapter1'> <font color=\"grey\">1. Data preparation </font></a>"
   ]
  },
  {
   "cell_type": "markdown",
   "metadata": {},
   "source": [
    "The primary data is based on whole-exome sequences derived from cancer cells of patient samples, taken from the [The Cancer Genome Atlas (TCGA) skin cutaneous melanoma (SKCM)](https://gdc-portal.nci.nih.gov/projects/TCGA-SKCM) database. For each sample and for each of $K=96$ types of single nucleotide substitutions (SNVs) in trinucleotide context, we count the number of times this substitution occurs relative to the abundance of the given context in the exome. \n",
    "\n",
    "According to [Alexandrov et al](http://www.nature.com/nature/journal/v500/n7463/full/nature12477.html), the vector counting the number of times each substitution out of a predefined set appears in a sample can be expressed as a non-negative linear combination of **mutation signatures**. More precisely, the mutation alphabet $\\Theta$ we consider consists of single nucleotide substitutions in trinucleotide context. The subsitution considered are from Cytosine or Thymine to one of the three other bases, making 6 possible subsitutions in $4\\times 4=16$ contexts. The alphabet thus consists of $K=96$ elements. A **mutation catalog** $\\vct{m}\\in \\R^K$ consists of the number of times each of the substitutions occurs within a sample. A mutation catalog can be approximated as non-negative linear combination\n",
    "\n",
    "\\begin{equation*}\n",
    "  \\vct{m} \\approx \\sum_{i=1}^N e_i \\vct{p}_i,\n",
    "\\end{equation*}\n",
    "\n",
    "where the $\\vct{p}_i\\in \\R^K$ are probability distributions on the alphabet $\\Theta$, called mutation signatures. The coefficient $e_i$ is called the **exposure** of sample $i$ to signature $p_i$. "
   ]
  },
  {
   "cell_type": "markdown",
   "metadata": {},
   "source": [
    "* The catalog of mutation signatures that we use is from the [COSMIC Database](http://cancer.sanger.ac.uk/cosmic). Of biggest interest in Melanoma are signatures $1$ and $7$ from this database. Signature $7$ is known to be related to UV exposure.  Signature $1$ is dominated by C>T subsitutions in NpG dinucleotide context, which is believed to be related to the spontaneous deamination of 5-methylcytosine, and has been observed to accumulate at a constant rate over time in melanoma and some other cancers ([Alexandrov et al](http://www.nature.com/ng/journal/v47/n12/full/ng.3441.html)).\n",
    "* As an alternative, one can extract the mutation signatures using a [hierarchical dirichlet process (HDP)](https://en.wikipedia.org/wiki/Hierarchical_Dirichlet_process), with samples separated into groups according to whether the mutations occur in the BRAF, NRAS, NF1 genes, or none of these. This new extraction of signatures is based on [Nicola Robert's hdp package](https://github.com/nicolaroberts/hdp/blob/master/vignettes/mutation_signatures.Rmd)."
   ]
  },
  {
   "cell_type": "markdown",
   "metadata": {},
   "source": [
    "The following three graphs show the profile of COSMIC Signature 1."
   ]
  },
  {
   "cell_type": "code",
   "execution_count": 3,
   "metadata": {},
   "outputs": [
    {
     "data": {},
     "metadata": {},
     "output_type": "display_data"
    },
    {
     "data": {
      "image/png": "[encoded data removed]",
      "text/plain": [
       "plot without title"
      ]
     },
     "metadata": {},
     "output_type": "display_data"
    }
   ],
   "source": [
    "# Signature 1\n",
    "signatures <- read.csv('data/signatures_probabilities.txt', sep=\"\\t\")\n",
    "# Do some preformating for plot\n",
    "signatures$Context <- paste(substr(signatures$Trinucleotide, 1, 1), substr(signatures$Trinucleotide, 3, 3), sep='')\n",
    "ggplot(data=signatures, aes(x=Context, y=Signature.1)) +\n",
    "    geom_bar(stat=\"identity\", aes(fill=Substitution.Type), width=0.7) + facet_wrap(~ Substitution.Type, ncol=6) +\n",
    "    xlab(\"Substitution\") + ylab(\"Exposure\") +  guides(fill=FALSE) + ggtitle(\"Signature 1 (COSMIC)\") +\n",
    "    theme_minimal() + theme(axis.text.x=element_blank(), axis.ticks.x=element_blank()) + scale_y_continuous(expand = c(0,0))"
   ]
  },
  {
   "cell_type": "code",
   "execution_count": 4,
   "metadata": {},
   "outputs": [
    {
     "data": {},
     "metadata": {},
     "output_type": "display_data"
    },
    {
     "data": {
      "image/png": "[encoded data removed]",
      "text/plain": [
       "plot without title"
      ]
     },
     "metadata": {},
     "output_type": "display_data"
    }
   ],
   "source": [
    "# Signature 7\n",
    "ggplot(data=signatures, aes(x=Context, y=Signature.7)) +\n",
    "    geom_bar(stat=\"identity\", aes(fill=Substitution.Type), width=0.7) + facet_wrap(~ Substitution.Type, ncol=6) +\n",
    "    xlab(\"Substitution\") + ylab(\"Exposure\") +  guides(fill=FALSE) + ggtitle(\"Signature 7 (COSMIC)\") +\n",
    "    theme_minimal() + theme(axis.text.x=element_blank(), axis.ticks.x=element_blank()) + scale_y_continuous(expand = c(0,0)) "
   ]
  },
  {
   "cell_type": "markdown",
   "metadata": {},
   "source": [
    "For each sample we estimated the the exposure $e_1$ to mutation signature 1 using a the R package desconstructSigs. The extraction follows the following procedure:\n",
    "\n",
    "1. Select a biologically meaningful subset of $p$ mutation signatures (say, signatures 1, 5, 7, 11 and 17).\n",
    "2. Normalize each component $m_i$ (=number of mutations of type $i$) by multiplying it with the proportion of occurences of the corresponding trinucleotide in the exome or genome. For example, if we denote by $q_i$ the proportion of trinucleotide $i$ (for example, TCG) occurs in a reference exome or genome, then we replace each entry $m_i$ of the catalog with $q_i m_i$, obtaining a new mutation catalog. \n",
    "3. Normalize the resulting catalog by dividing with the total number $m=\\sum_{i=1}^K q_im_i$ of (normalized) mutations. This gives a new normalized mutation catalog $\\tilde{\\vct{m}}$ with the property that $\\sum_{i=1}^K \\tilde{m}_i = 1$. \n",
    "4. Solve a simplex-constrained least squares problem\n",
    "\n",
    "\\begin{equation*}\n",
    "  \\min_{\\vct{\\epsilon}\\in \\R^{p}} \\left\\|\\tilde{\\vct{m}}-\\sum_{i=1}^p \\epsilon_i \\vct{p}_i\\right\\|_2^2 \\text{ subject to } \\epsilon_i\\geq 0, 1\\leq i\\leq p, \\text{ and } \\sum_{i=1}^p \\epsilon_i = 1.\n",
    "\\end{equation*}\n",
    "\n",
    "The exposure to signature $j$ is then computed as $e_j = \\epsilon_j \\cdot \\left(\\sum_{i=1}^K q_i m_i\\right)$. "
   ]
  },
  {
   "cell_type": "markdown",
   "metadata": {},
   "source": [
    "We added information on whether the sample had mutations in BRAF, NRAS, NF1 or none of these genes. "
   ]
  },
  {
   "cell_type": "markdown",
   "metadata": {},
   "source": [
    "The prepared data is summarized in a file 'tcga_4class.Rdata'. In addition, we computed means, robust means (based on robGlm) and medians for each age, and for each age restricted to the BRAF and NRAS samples."
   ]
  },
  {
   "cell_type": "code",
   "execution_count": 5,
   "metadata": {},
   "outputs": [
    {
     "name": "stdout",
     "output_type": "stream",
     "text": [
      "There are 397 data samples\n"
     ]
    }
   ],
   "source": [
    "load('data/tcga_4class.Rdata')\n",
    "data <- sigdata.tcga\n",
    "cat(\"There are\", dim(data)[1], \"data samples\\n\")"
   ]
  },
  {
   "cell_type": "code",
   "execution_count": 6,
   "metadata": {},
   "outputs": [
    {
     "data": {
      "text/html": [
       "<table>\n",
       "<thead><tr><th></th><th scope=col>ID</th><th scope=col>Age</th><th scope=col>Gender</th><th scope=col>Site</th><th scope=col>Cohort</th><th scope=col>MC1R</th><th scope=col>Sig1Rel</th><th scope=col>Sig7Rel</th><th scope=col>Sig5Rel</th><th scope=col>TotalSNV</th><th scope=col>Sig1Total</th><th scope=col>Sig7Total</th><th scope=col>Sig5Total</th></tr></thead>\n",
       "<tbody>\n",
       "\t<tr><th scope=row>1</th><td>TCGA-BF-A1PZ</td><td>71          </td><td>FEMALE      </td><td>Extremities </td><td>NF1         </td><td>NA          </td><td>0.04838797  </td><td>0.7494730   </td><td>0           </td><td>266         </td><td>13          </td><td>199         </td><td>0           </td></tr>\n",
       "\t<tr><th scope=row>2</th><td>TCGA-BF-A1Q0</td><td>80          </td><td>MALE        </td><td>Trunk       </td><td>W3          </td><td>R,0         </td><td>0.08484725  </td><td>0.8087137   </td><td>0           </td><td>738         </td><td>63          </td><td>597         </td><td>0           </td></tr>\n",
       "\t<tr><th scope=row>3</th><td>TCGA-BF-A3DJ</td><td>36          </td><td>FEMALE      </td><td>Extremities </td><td>BRAF        </td><td>NA          </td><td>0.10361806  </td><td>0.8691405   </td><td>0           </td><td>177         </td><td>18          </td><td>154         </td><td>0           </td></tr>\n",
       "\t<tr><th scope=row>4</th><td>TCGA-BF-A3DL</td><td>84          </td><td>FEMALE      </td><td>Extremities </td><td>BRAF        </td><td>NA          </td><td>0.09639613  </td><td>0.8398137   </td><td>0           </td><td>536         </td><td>52          </td><td>450         </td><td>0           </td></tr>\n",
       "\t<tr><th scope=row>5</th><td>TCGA-BF-A3DM</td><td>63          </td><td>MALE        </td><td>Trunk       </td><td>BRAF        </td><td>NA          </td><td>0.07601323  </td><td>0.8836830   </td><td>0           </td><td>613         </td><td>47          </td><td>542         </td><td>0           </td></tr>\n",
       "\t<tr><th scope=row>7</th><td>TCGA-BF-A5EO</td><td>65          </td><td>MALE        </td><td>Trunk       </td><td>NRAS        </td><td>NA          </td><td>0.08857320  </td><td>0.8322922   </td><td>0           </td><td>811         </td><td>72          </td><td>675         </td><td>0           </td></tr>\n",
       "</tbody>\n",
       "</table>\n"
      ],
      "text/latex": [
       "\\begin{tabular}{r|lllllllllllll}\n",
       "  & ID & Age & Gender & Site & Cohort & MC1R & Sig1Rel & Sig7Rel & Sig5Rel & TotalSNV & Sig1Total & Sig7Total & Sig5Total\\\\\n",
       "\\hline\n",
       "\t1 & TCGA-BF-A1PZ & 71           & FEMALE       & Extremities  & NF1          & NA           & 0.04838797   & 0.7494730    & 0            & 266          & 13           & 199          & 0           \\\\\n",
       "\t2 & TCGA-BF-A1Q0 & 80           & MALE         & Trunk        & W3           & R,0          & 0.08484725   & 0.8087137    & 0            & 738          & 63           & 597          & 0           \\\\\n",
       "\t3 & TCGA-BF-A3DJ & 36           & FEMALE       & Extremities  & BRAF         & NA           & 0.10361806   & 0.8691405    & 0            & 177          & 18           & 154          & 0           \\\\\n",
       "\t4 & TCGA-BF-A3DL & 84           & FEMALE       & Extremities  & BRAF         & NA           & 0.09639613   & 0.8398137    & 0            & 536          & 52           & 450          & 0           \\\\\n",
       "\t5 & TCGA-BF-A3DM & 63           & MALE         & Trunk        & BRAF         & NA           & 0.07601323   & 0.8836830    & 0            & 613          & 47           & 542          & 0           \\\\\n",
       "\t7 & TCGA-BF-A5EO & 65           & MALE         & Trunk        & NRAS         & NA           & 0.08857320   & 0.8322922    & 0            & 811          & 72           & 675          & 0           \\\\\n",
       "\\end{tabular}\n"
      ],
      "text/markdown": [
       "\n",
       "| <!--/--> | ID | Age | Gender | Site | Cohort | MC1R | Sig1Rel | Sig7Rel | Sig5Rel | TotalSNV | Sig1Total | Sig7Total | Sig5Total | \n",
       "|---|---|---|---|---|---|\n",
       "| 1 | TCGA-BF-A1PZ | 71           | FEMALE       | Extremities  | NF1          | NA           | 0.04838797   | 0.7494730    | 0            | 266          | 13           | 199          | 0            | \n",
       "| 2 | TCGA-BF-A1Q0 | 80           | MALE         | Trunk        | W3           | R,0          | 0.08484725   | 0.8087137    | 0            | 738          | 63           | 597          | 0            | \n",
       "| 3 | TCGA-BF-A3DJ | 36           | FEMALE       | Extremities  | BRAF         | NA           | 0.10361806   | 0.8691405    | 0            | 177          | 18           | 154          | 0            | \n",
       "| 4 | TCGA-BF-A3DL | 84           | FEMALE       | Extremities  | BRAF         | NA           | 0.09639613   | 0.8398137    | 0            | 536          | 52           | 450          | 0            | \n",
       "| 5 | TCGA-BF-A3DM | 63           | MALE         | Trunk        | BRAF         | NA           | 0.07601323   | 0.8836830    | 0            | 613          | 47           | 542          | 0            | \n",
       "| 7 | TCGA-BF-A5EO | 65           | MALE         | Trunk        | NRAS         | NA           | 0.08857320   | 0.8322922    | 0            | 811          | 72           | 675          | 0            | \n",
       "\n",
       "\n"
      ],
      "text/plain": [
       "  ID           Age Gender Site        Cohort MC1R Sig1Rel    Sig7Rel   Sig5Rel\n",
       "1 TCGA-BF-A1PZ 71  FEMALE Extremities NF1    NA   0.04838797 0.7494730 0      \n",
       "2 TCGA-BF-A1Q0 80  MALE   Trunk       W3     R,0  0.08484725 0.8087137 0      \n",
       "3 TCGA-BF-A3DJ 36  FEMALE Extremities BRAF   NA   0.10361806 0.8691405 0      \n",
       "4 TCGA-BF-A3DL 84  FEMALE Extremities BRAF   NA   0.09639613 0.8398137 0      \n",
       "5 TCGA-BF-A3DM 63  MALE   Trunk       BRAF   NA   0.07601323 0.8836830 0      \n",
       "7 TCGA-BF-A5EO 65  MALE   Trunk       NRAS   NA   0.08857320 0.8322922 0      \n",
       "  TotalSNV Sig1Total Sig7Total Sig5Total\n",
       "1 266      13        199       0        \n",
       "2 738      63        597       0        \n",
       "3 177      18        154       0        \n",
       "4 536      52        450       0        \n",
       "5 613      47        542       0        \n",
       "7 811      72        675       0        "
      ]
     },
     "metadata": {},
     "output_type": "display_data"
    }
   ],
   "source": [
    "head(data)"
   ]
  },
  {
   "cell_type": "markdown",
   "metadata": {},
   "source": [
    "### <font color=\"grey\">  1.1 Data summary</font>\n",
    "\n",
    "#### We first summarize how many samples are in each category."
   ]
  },
  {
   "cell_type": "markdown",
   "metadata": {},
   "source": [
    "Explore the data and survey the different quantities (amount of samples with specific characteristics)"
   ]
  },
  {
   "cell_type": "code",
   "execution_count": 7,
   "metadata": {},
   "outputs": [
    {
     "name": "stdout",
     "output_type": "stream",
     "text": [
      "TCGA data: \n",
      "BRAF: 173 \n",
      "NRAS: 97 \n",
      "NF1: 45 \n",
      "Triple wild: 82 \n",
      "Male BRAF: 107 \n",
      "Male NRAS: 62 \n",
      "Male NF1: 29 \n",
      "Male Triple wild: 50 \n",
      "Female BRAF: 66 \n",
      "Female NRAS: 35 \n",
      "Female NF1: 16 \n",
      "Female Triple wild: 32 \n",
      "MC1R information available for 230 samples"
     ]
    }
   ],
   "source": [
    "cat(\"TCGA data: \\n\")\n",
    "cat(\"BRAF:\", nrow(subset(data, Cohort==\"BRAF\")), \"\\n\")\n",
    "cat(\"NRAS:\", nrow(subset(data, Cohort==\"NRAS\")), \"\\n\")\n",
    "cat(\"NF1:\", nrow(subset(data, Cohort==\"NF1\")), \"\\n\")\n",
    "cat(\"Triple wild:\", nrow(subset(data, Cohort==\"W3\")), \"\\n\")\n",
    "cat(\"Male BRAF:\", nrow(subset(data, Cohort==\"BRAF\" & Gender=='MALE')), \"\\n\")\n",
    "cat(\"Male NRAS:\", nrow(subset(data, Cohort==\"NRAS\" & Gender=='MALE')), \"\\n\")\n",
    "cat(\"Male NF1:\", nrow(subset(data, Cohort==\"NF1\" & Gender=='MALE')), \"\\n\")\n",
    "cat(\"Male Triple wild:\", nrow(subset(data, Cohort==\"W3\" & Gender=='MALE')), \"\\n\")\n",
    "cat(\"Female BRAF:\", nrow(subset(data, Cohort==\"BRAF\" & Gender=='FEMALE')), \"\\n\")\n",
    "cat(\"Female NRAS:\", nrow(subset(data, Cohort==\"NRAS\" & Gender=='FEMALE')), \"\\n\")\n",
    "cat(\"Female NF1:\", nrow(subset(data, Cohort==\"NF1\" & Gender=='FEMALE')), \"\\n\")\n",
    "cat(\"Female Triple wild:\", nrow(subset(data, Cohort==\"W3\" & Gender=='FEMALE')), \"\\n\")\n",
    "cat(\"MC1R information available for\", nrow(subset(data, !is.na(MC1R))), \"samples\")"
   ]
  },
  {
   "cell_type": "markdown",
   "metadata": {},
   "source": [
    "The **averages** datasets below contain mean and median information on the number of mutations by each age group. This is because sometimes we want to analyse the median mutation load for each age against age."
   ]
  },
  {
   "cell_type": "code",
   "execution_count": 8,
   "metadata": {},
   "outputs": [],
   "source": [
    "averages <- read.csv('data/averages.csv', header=TRUE)\n",
    "averages.brafnras <- read.csv('data/averages_brafnras.csv', header=TRUE)\n",
    "averages.braf <- read.csv('data/averages_braf.csv', header=TRUE)\n",
    "averages.nras <- read.csv('data/averages_nras.csv', header=TRUE)\n",
    "averages.nf1 <- read.csv('data/averages_nf1.csv', header=TRUE)\n",
    "averages.w3 <- read.csv('data/averages_w3.csv', header=TRUE)\n",
    "averages.all <- read.csv('data/averages_all.csv', header=TRUE)\n",
    "averages.male <- read.csv('data/averages_male.csv', header=TRUE)\n",
    "averages.female <- read.csv('data/averages_female.csv', header=TRUE)\n",
    "averages.gender <- read.csv('data/averages_gender.csv', header=TRUE)"
   ]
  },
  {
   "cell_type": "markdown",
   "metadata": {},
   "source": [
    "#### Some overall statistics of the data\n",
    "The conclusion from the below is that, on average, BRAF patients are younger than NRAS, which are much younger than NF1."
   ]
  },
  {
   "cell_type": "code",
   "execution_count": 9,
   "metadata": {},
   "outputs": [
    {
     "name": "stdout",
     "output_type": "stream",
     "text": [
      "Mean age for BRAF: 52.6474 \n",
      "Mean age for NRAS: 59.45361 \n",
      "Mean age for NF1: 69.82222 \n",
      "Mean age for W3: 62.90244 \n",
      "Mean age overall: 58.37531 \n"
     ]
    }
   ],
   "source": [
    "w3 <- subset(data, Cohort==\"W3\")$Age\n",
    "nras <- subset(data, Cohort==\"NRAS\")$Age\n",
    "braf <- subset(data, Cohort==\"BRAF\")$Age\n",
    "nf1 <- subset(data, Cohort==\"NF1\")$Age\n",
    "cat(\"Mean age for BRAF:\", mean(braf), \"\\n\")\n",
    "cat(\"Mean age for NRAS:\", mean(nras), \"\\n\")\n",
    "cat(\"Mean age for NF1:\", mean(nf1), \"\\n\")\n",
    "cat(\"Mean age for W3:\", mean(w3), \"\\n\")\n",
    "cat(\"Mean age overall:\", mean(data$Age), \"\\n\")"
   ]
  },
  {
   "cell_type": "markdown",
   "metadata": {},
   "source": [
    "Compute the average number of mutations (Signature 1 and total) for the whole dataset and for the subroups"
   ]
  },
  {
   "cell_type": "code",
   "execution_count": 10,
   "metadata": {},
   "outputs": [
    {
     "name": "stdout",
     "output_type": "stream",
     "text": [
      "Sig1 for BRAF: 477.1272 \n",
      "Sig1 for NRAS: 698.1237 \n",
      "Sig1 for NF1: 1388.333 \n",
      "Sig1 for W3: 467.2195 \n",
      "Sig1 overall: 632.3627 \n",
      "Total for BRAF: 587.8671 \n",
      "Total for NRAS: 836.9381 \n",
      "Total for NF1: 1638.489 \n",
      "Total for W3: 575.4878 \n",
      "Total overall: 765.2544 \n"
     ]
    }
   ],
   "source": [
    "w3 <- subset(data, Cohort==\"W3\")\n",
    "nras <- subset(data, Cohort==\"NRAS\")\n",
    "braf <- subset(data, Cohort==\"BRAF\")\n",
    "nf1 <- subset(data, Cohort==\"NF1\")\n",
    "cat(\"Sig1 for BRAF:\", mean(braf$Sig7Total), \"\\n\")\n",
    "cat(\"Sig1 for NRAS:\", mean(nras$Sig7Total), \"\\n\")\n",
    "cat(\"Sig1 for NF1:\", mean(nf1$Sig7Total), \"\\n\")\n",
    "cat(\"Sig1 for W3:\", mean(w3$Sig7Total), \"\\n\")\n",
    "cat(\"Sig1 overall:\", mean(data$Sig7Total), \"\\n\")\n",
    "cat(\"Total for BRAF:\", mean(braf$TotalSNV), \"\\n\")\n",
    "cat(\"Total for NRAS:\", mean(nras$TotalSNV), \"\\n\")\n",
    "cat(\"Total for NF1:\", mean(nf1$TotalSNV), \"\\n\")\n",
    "cat(\"Total for W3:\", mean(w3$TotalSNV), \"\\n\")\n",
    "cat(\"Total overall:\", mean(data$TotalSNV), \"\\n\")"
   ]
  },
  {
   "cell_type": "code",
   "execution_count": 11,
   "metadata": {},
   "outputs": [
    {
     "name": "stdout",
     "output_type": "stream",
     "text": [
      "13.74126 \n",
      "11.08248"
     ]
    }
   ],
   "source": [
    "cat(sd(data$Sig7Total/data$Age),\"\\n\")\n",
    "cat(mean(data$Sig7Total/data$Age))"
   ]
  },
  {
   "cell_type": "markdown",
   "metadata": {},
   "source": [
    "These are just some auxiliary data sets that are used (or not) later throughout the analysis"
   ]
  },
  {
   "cell_type": "code",
   "execution_count": 12,
   "metadata": {},
   "outputs": [],
   "source": [
    "# Auxiliary columns that might come handy\n",
    "data$Sig1Ratio <- data$Sig1Total/data$Age\n",
    "data$Sig1pSig7 <- data$Sig1Rel+data$Sig7Rel\n",
    "data$range <- cut(data$Age, c(0, 30, 40, 50, 60, 70, 80, 90), include.lowest=FALSE)\n",
    "data$two.range <- cut(data$Age, c(0, 55, 90), include.lowest=FALSE)\n",
    "data$four.range <- cut(data$Age, c(0, 30, 50, 70, 90), include.lowest=FALSE)\n",
    "averages.all$two.range <- cut(averages.all$Age, c(0, 55, 90), include.lowest=FALSE)\n",
    "mysig7range <- cut(data$Sig7Total, seq(0,4000,by=10), include.lowest=FALSE)\n",
    "a <- sapply(mysig7range, as.character)\n",
    "data$sig7range <- unname(sapply(gsub(\".*\\\\((.+)\\\\,.*\", \"\\\\1\", a), as.numeric))\n",
    "mysig5range <- cut(data$Sig5Total, seq(0,4000,by=10), include.lowest=FALSE)\n",
    "a <- sapply(mysig5range, as.character)\n",
    "data$sig5range <- unname(sapply(gsub(\".*\\\\((.+)\\\\,.*\", \"\\\\1\", a), as.numeric))"
   ]
  },
  {
   "cell_type": "markdown",
   "metadata": {},
   "source": [
    "#### MC1R Information\n",
    "Introduce new data frame (name: **mydata**) for samples with MC1R information."
   ]
  },
  {
   "cell_type": "code",
   "execution_count": 13,
   "metadata": {},
   "outputs": [],
   "source": [
    "# Add additional columns to the data\n",
    "mydata <- subset(data, !is.na(MC1R))\n",
    "mydata$Rallele <- as.factor(str_count(mydata$MC1R, 'R')>0)\n",
    "levels(mydata$Rallele) <- c(\"0 R alleles\", \"1-2 R alleles\")"
   ]
  },
  {
   "cell_type": "code",
   "execution_count": 14,
   "metadata": {},
   "outputs": [
    {
     "name": "stdout",
     "output_type": "stream",
     "text": [
      "TCGA data (1-2 MC1R alleles): \n",
      "BRAF: 55 \n",
      "NRAS: 25 \n",
      "NF1: 16 \n",
      "Triple wild: 17 \n"
     ]
    }
   ],
   "source": [
    "cat(\"TCGA data (1-2 MC1R alleles): \\n\")\n",
    "cat(\"BRAF:\", nrow(subset(mydata, Cohort==\"BRAF\" & Rallele == \"1-2 R alleles\")), \"\\n\")\n",
    "cat(\"NRAS:\", nrow(subset(mydata, Cohort==\"NRAS\" & Rallele == \"1-2 R alleles\")), \"\\n\")\n",
    "cat(\"NF1:\", nrow(subset(mydata, Cohort==\"NF1\" & Rallele == \"1-2 R alleles\")), \"\\n\")\n",
    "cat(\"Triple wild:\", nrow(subset(mydata, Cohort==\"W3\" & Rallele == \"1-2 R alleles\")), \"\\n\")"
   ]
  },
  {
   "cell_type": "code",
   "execution_count": 15,
   "metadata": {},
   "outputs": [
    {
     "name": "stdout",
     "output_type": "stream",
     "text": [
      "TCGA data (0 MC1R alleles): \n",
      "BRAF: 43 \n",
      "NRAS: 35 \n",
      "NF1: 14 \n",
      "Triple wild: 25 \n"
     ]
    }
   ],
   "source": [
    "cat(\"TCGA data (0 MC1R alleles): \\n\")\n",
    "cat(\"BRAF:\", nrow(subset(mydata, Cohort==\"BRAF\" & Rallele == \"0 R alleles\")), \"\\n\")\n",
    "cat(\"NRAS:\", nrow(subset(mydata, Cohort==\"NRAS\" & Rallele == \"0 R alleles\")), \"\\n\")\n",
    "cat(\"NF1:\", nrow(subset(mydata, Cohort==\"NF1\" & Rallele == \"0 R alleles\")), \"\\n\")\n",
    "cat(\"Triple wild:\", nrow(subset(mydata, Cohort==\"W3\" & Rallele == \"0 R alleles\")), \"\\n\")"
   ]
  },
  {
   "cell_type": "code",
   "execution_count": 16,
   "metadata": {},
   "outputs": [],
   "source": [
    "# For later use\n",
    "sigs <- c(\"Sig1Med\", \"Sig7Med\")\n",
    "sigst <- c(\"Sig1Total\", \"Sig7Total\")\n",
    "cohorts <- c(\"BRAF\", \"NRAS\", \"NF1\", \"W3\")\n",
    "alleles <- c(\"0 R alleles\", \"1-2 R alleles\")\n",
    "genders <- c(\"MALE\", \"FEMALE\")\n",
    "avgsets <- list(averages.braf, averages.nras, averages.nf1, averages.w3)\n",
    "cohortsets <- list(subset(data, Cohort=='BRAF'),subset(data, Cohort=='NRAS'),subset(data, Cohort=='NF1'),subset(data, Cohort=='W3'))\n",
    "sig7ranges <- sort(unique(data$sig7range)[!is.na(unique(data$sig7range))])"
   ]
  },
  {
   "cell_type": "markdown",
   "metadata": {},
   "source": [
    "###  <a id='chapter2'><font color=\"grey\">  2. The molecular subtypes of melanoma present distinct ratios of clock-like mutations per unit of time</font></a>"
   ]
  },
  {
   "cell_type": "markdown",
   "metadata": {},
   "source": [
    "Robust linear regression of Signature 1 against age, and subdivided by cohorts."
   ]
  },
  {
   "cell_type": "code",
   "execution_count": 17,
   "metadata": {},
   "outputs": [
    {
     "data": {
      "image/png": "[encoded data removed]",
      "text/plain": [
       "plot without title"
      ]
     },
     "metadata": {},
     "output_type": "display_data"
    }
   ],
   "source": [
    "plot1 <- ggplot(averages, aes(Age, Sig1Med)) +  geom_smooth(method = \"rlm\", se=FALSE) + geom_point() +\n",
    "    xlab(\"Age\") + ylab(\"Signature 1\") + theme_minimal()# + theme(legend.position=\"none\")\n",
    "plot2 <- ggplot(subset(averages.all, Cohort=='BRAF' | Cohort=='NRAS'), aes(Age, Sig1Med, color=Cohort)) +  geom_smooth(method = \"rlm\", se=FALSE) + geom_point() +\n",
    "    xlab(\"Age\") + ylab(\"\") +#scale_y_continuous(limits = c(0,2000)) +\n",
    "    theme_minimal() + theme(legend.position=\"top\")\n",
    "grid.arrange(plot1, plot2, ncol=2)\n",
    "p <- arrangeGrob(plot1, plot2, ncol=2)"
   ]
  },
  {
   "cell_type": "markdown",
   "metadata": {},
   "source": [
    "#### Robust linear regression coefficients with P-value"
   ]
  },
  {
   "cell_type": "code",
   "execution_count": 18,
   "metadata": {},
   "outputs": [
    {
     "name": "stdout",
     "output_type": "stream",
     "text": [
      "(Signature 1)  Slope on robust regression: 0.2904859 with P-value 0.0009603882 \n",
      "(Signature 1)  Intercept on robust regression: 14.71289 with P-value 0.002905308 \n",
      "\n",
      "(Signature 1 BRAF )  Slope on robust regression: 0.04320094 with P-value 0.6988235 \n",
      "(Signature 1 BRAF )  Intercept on robust regression: 25.50862 with P-value 0.0001462289 \n",
      "\n",
      "(Signature 1 NRAS )  Slope on robust regression: 0.6617797 with P-value 0.01718569 \n",
      "(Signature 1 NRAS )  Intercept on robust regression: 1.294311 with P-value 0.9372656 \n",
      "\n",
      "(Signature 1 NF1 )  Slope on robust regression: -0.3331371 with P-value 0.5641947 \n",
      "(Signature 1 NF1 )  Intercept on robust regression: 80.3755 with P-value 0.0520047 \n",
      "\n",
      "(Signature 1 W3 )  Slope on robust regression: 0.3064062 with P-value 0.09522744 \n",
      "(Signature 1 W3 )  Intercept on robust regression: 4.52807 with P-value 0.6911437 \n",
      "\n"
     ]
    }
   ],
   "source": [
    "res <- rlm(as.formula(\"Sig1Med ~ Age\"), data=averages)\n",
    "p.slope <- f.robftest(res, var = \"Age\")$p.value\n",
    "p.intercept <- f.robftest(res, var = \"(Intercept)\")$p.value\n",
    "cat(\"(Signature 1)\", \" Slope on robust regression:\", unname(coef(res)['Age']), \"with P-value\", p.slope, \"\\n\")\n",
    "cat(\"(Signature 1)\", \" Intercept on robust regression:\", unname(coef(res)['(Intercept)']), \"with P-value\", p.intercept, \"\\n\\n\")\n",
    "for (i in seq(1:4)) {\n",
    "    res <- rlm(as.formula(\"Sig1Med ~ Age\"), data=avgsets[[i]])\n",
    "    p.slope <- f.robftest(res, var = \"Age\")$p.value\n",
    "    p.intercept <- f.robftest(res, var = \"(Intercept)\")$p.value\n",
    "    cat(\"(Signature 1\", cohorts[i],\")\", \" Slope on robust regression:\", unname(coef(res)['Age']), \"with P-value\", p.slope, \"\\n\")\n",
    "    cat(\"(Signature 1\", cohorts[i],\")\", \" Intercept on robust regression:\", unname(coef(res)['(Intercept)']), \"with P-value\", p.intercept, \"\\n\\n\")\n",
    "}"
   ]
  },
  {
   "cell_type": "markdown",
   "metadata": {},
   "source": [
    "#### Spearman rho"
   ]
  },
  {
   "cell_type": "code",
   "execution_count": 19,
   "metadata": {},
   "outputs": [],
   "source": [
    "# Compute confidence intervals by bootstrapping\n",
    "spearman.rho.sig1med.age <- function(data, indices) {\n",
    "  d <- data[indices,] # allows boot to select sample \n",
    "  fit <- cor.test(d$Age, d$Sig1Med, method=\"spearman\", alternative=\"greater\", data=d, exact=FALSE)\n",
    "  return(fit$estimate)\n",
    "} "
   ]
  },
  {
   "cell_type": "code",
   "execution_count": 20,
   "metadata": {},
   "outputs": [
    {
     "name": "stdout",
     "output_type": "stream",
     "text": [
      "Spearman correlation with age on complete dataset: 0.3527963 with P-value 0.001584711 \n",
      "\n",
      "Spearman rho correlation with age on BRAF dataset: 0.0459996 with P-value 0.361288 \n",
      "Spearman rho correlation with age on NRAS dataset: 0.3273189 with P-value 0.01504823 \n",
      "Spearman rho correlation with age on NF1 dataset: -0.09416743 with P-value 0.6896867 \n",
      "Spearman rho correlation with age on W3 dataset: 0.2584803 with P-value 0.04918451 \n"
     ]
    }
   ],
   "source": [
    "correlation <- cor.test(averages$Age, averages$Sig1Med, method=\"spearman\", alternative=\"greater\", exact=FALSE)\n",
    "cat(\"Spearman correlation with age on complete dataset:\", correlation$estimate, \"with P-value\", correlation$p.value, \"\\n\\n\")\n",
    "for (i in seq(1:4)) {\n",
    "    correlation <- cor.test(avgsets[[i]]$Age, avgsets[[i]]$Sig1Med, method=\"spearman\", alternative=\"greater\", exact=FALSE)\n",
    "    cat(\"Spearman rho correlation with age on\", cohorts[i], \"dataset:\", correlation$estimate, \"with P-value\", correlation$p.value, \"\\n\")\n",
    "    }"
   ]
  },
  {
   "cell_type": "markdown",
   "metadata": {},
   "source": [
    "#### Median Signature 1/age by cohorts"
   ]
  },
  {
   "cell_type": "code",
   "execution_count": 21,
   "metadata": {},
   "outputs": [
    {
     "data": {
      "image/png": "[encoded data removed]",
      "text/plain": [
       "plot without title"
      ]
     },
     "metadata": {},
     "output_type": "display_data"
    }
   ],
   "source": [
    "plot1 <- ggplot(data, aes(Cohort, (Sig1Total)/Age, fill=Cohort)) +\n",
    "    geom_boxplot() + ylab(\"Signatures 1 mutations / year\") + theme_minimal() + guides(fill=FALSE) + coord_cartesian(ylim = c(0,3))\n",
    "plot2 <- ggplot(data, aes(Cohort, (Sig7Total)/Age, fill=Cohort)) +\n",
    "    geom_boxplot() + ylab(\"Signatures 7 mutations / year\") + theme_minimal() + guides(fill=FALSE) + coord_cartesian(ylim = c(0,60))\n",
    "grid.arrange(plot1, plot2, ncol=2)\n",
    "p <- arrangeGrob(plot1, plot2, ncol=2)"
   ]
  },
  {
   "cell_type": "code",
   "execution_count": 22,
   "metadata": {},
   "outputs": [],
   "source": [
    "md.sig1sig7 <- function(data, indices) {\n",
    "    mydata <- data[indices,]\n",
    "    return(median((mydata$Sig1Total)/mydata$Age))\n",
    "}"
   ]
  },
  {
   "cell_type": "code",
   "execution_count": 23,
   "metadata": {},
   "outputs": [
    {
     "name": "stdout",
     "output_type": "stream",
     "text": [
      "Median ratio for BRAF :  0.5 \n",
      "\n",
      "Median ratio for NRAS :  0.6060606 \n",
      "\n",
      "Median ratio for NF1 :  0.8974359 \n",
      "\n",
      "Median ratio for W3 :  0.3677606 \n",
      "\n"
     ]
    }
   ],
   "source": [
    "for (i in seq(1:4)) {\n",
    "    res <- md.sig1sig7(subset(data, Cohort==cohorts[i]),)\n",
    "    cat(\"Median ratio for\", cohorts[i], \": \", res, \"\\n\\n\")\n",
    "}"
   ]
  },
  {
   "cell_type": "markdown",
   "metadata": {},
   "source": [
    "#### Mann-Whitney U test with Bonferroni correction\n",
    "Test whether the ratios Sig1/Age differ in median across the subtypes. Using Sig1+Sig7, otherwise not significant difference between BRAF and NRAS."
   ]
  },
  {
   "cell_type": "code",
   "execution_count": 24,
   "metadata": {},
   "outputs": [
    {
     "data": {
      "text/html": [
       "<table>\n",
       "<thead><tr><th></th><th scope=col>BRAF</th><th scope=col>NF1</th><th scope=col>NRAS</th></tr></thead>\n",
       "<tbody>\n",
       "\t<tr><th scope=row>NF1</th><td>0.04881318  </td><td>         NA </td><td>          NA</td></tr>\n",
       "\t<tr><th scope=row>NRAS</th><td>0.29666739  </td><td>0.589985707 </td><td>          NA</td></tr>\n",
       "\t<tr><th scope=row>W3</th><td>0.07424641  </td><td>0.001415555 </td><td>0.0006133092</td></tr>\n",
       "</tbody>\n",
       "</table>\n"
      ],
      "text/latex": [
       "\\begin{tabular}{r|lll}\n",
       "  & BRAF & NF1 & NRAS\\\\\n",
       "\\hline\n",
       "\tNF1 & 0.04881318   &          NA  &           NA\\\\\n",
       "\tNRAS & 0.29666739   & 0.589985707  &           NA\\\\\n",
       "\tW3 & 0.07424641   & 0.001415555  & 0.0006133092\\\\\n",
       "\\end{tabular}\n"
      ],
      "text/markdown": [
       "\n",
       "| <!--/--> | BRAF | NF1 | NRAS | \n",
       "|---|---|---|\n",
       "| NF1 | 0.04881318   |          NA  |           NA | \n",
       "| NRAS | 0.29666739   | 0.589985707  |           NA | \n",
       "| W3 | 0.07424641   | 0.001415555  | 0.0006133092 | \n",
       "\n",
       "\n"
      ],
      "text/plain": [
       "     BRAF       NF1         NRAS        \n",
       "NF1  0.04881318          NA           NA\n",
       "NRAS 0.29666739 0.589985707           NA\n",
       "W3   0.07424641 0.001415555 0.0006133092"
      ]
     },
     "metadata": {},
     "output_type": "display_data"
    }
   ],
   "source": [
    "# Do a two-sided Wilcoxon test\n",
    "newdata <- data\n",
    "pwres <- pairwise.wilcox.test((newdata$Sig1Total)/newdata$Age, newdata$Cohort, exact=FALSE, paired=FALSE, alternative=\"two.sided\", p.adj=\"bonferroni\")\n",
    "pwres$p.value"
   ]
  },
  {
   "cell_type": "code",
   "execution_count": 25,
   "metadata": {},
   "outputs": [],
   "source": [
    "# Only compare BRAF and NRAS\n",
    "md.sig1 <- function(data, indices) {\n",
    "    mydata <- data[indices,]\n",
    "    return(median(mydata$Sig1Total/mydata$Age))\n",
    "}"
   ]
  },
  {
   "cell_type": "code",
   "execution_count": 26,
   "metadata": {},
   "outputs": [
    {
     "name": "stdout",
     "output_type": "stream",
     "text": [
      "P-value for BRAF vs NRAS: 0.04944457 \n"
     ]
    }
   ],
   "source": [
    "newdata.braf <- subset(data, Cohort=='BRAF')\n",
    "newdata.nras <- subset(data, Cohort=='NRAS')\n",
    "pwres <- wilcox.test(newdata.braf$Sig1Total/newdata.braf$Age, newdata.nras$Sig1Total/newdata.nras$Age, alternative=\"two.sided\", exact=FALSE, pairwise=FALSE)\n",
    "cat(\"P-value for BRAF vs NRAS:\", pwres$p.value, '\\n')"
   ]
  },
  {
   "cell_type": "markdown",
   "metadata": {},
   "source": [
    "#### Test the difference in the presence of 0 or 1-2 MC1R R alleles"
   ]
  },
  {
   "cell_type": "code",
   "execution_count": 27,
   "metadata": {},
   "outputs": [
    {
     "data": {
      "image/png": "[encoded data removed]",
      "text/plain": [
       "plot without title"
      ]
     },
     "metadata": {},
     "output_type": "display_data"
    }
   ],
   "source": [
    "p <- ggplot(transform(mydata,\n",
    "      Cohort=factor(Cohort,levels=c(\"BRAF\",\"NRAS\",\"NF1\",\"W3\"))), aes(Rallele, Sig1Total/Age, fill=Rallele)) +\n",
    "    geom_boxplot() + ylab(\"Signatures 1/ Age\") + theme_minimal() + #coord_cartesian(ylim = c(0,55)) + \n",
    "    guides(fill=FALSE) + facet_wrap(~ Cohort, ncol=4) + xlab(\"MC1R\")\n",
    "grid.arrange(p, ncol=1)"
   ]
  },
  {
   "cell_type": "markdown",
   "metadata": {},
   "source": [
    "#### Wilcoxon rank-sum test to see whether the ratios Sig1/Age differ depending on MC1R status"
   ]
  },
  {
   "cell_type": "code",
   "execution_count": 28,
   "metadata": {},
   "outputs": [
    {
     "name": "stdout",
     "output_type": "stream",
     "text": [
      "Median ratio:  1.5552 \n",
      "\n",
      "P-value: 0.001107226 \n"
     ]
    }
   ],
   "source": [
    "newdataR <- subset(mydata, Rallele=='1-2 R alleles')\n",
    "newdata0 <- subset(mydata, Rallele=='0 R alleles')\n",
    "medR <- median(newdataR$Sig1Total/newdataR$Age)\n",
    "med0 <- median(newdata0$Sig1Total/newdata0$Age)\n",
    "cat(\"Median ratio: \", medR/med0, \"\\n\\n\")\n",
    "pwres <- wilcox.test(newdataR$Sig1Total/newdataR$Age, newdata0$Sig1Total/newdata0$Age, paired=FALSE, exact=FALSE)\n",
    "cat(\"P-value:\", pwres$p.value, '\\n')"
   ]
  },
  {
   "cell_type": "markdown",
   "metadata": {},
   "source": [
    "#### Repeat with Signature 7"
   ]
  },
  {
   "cell_type": "code",
   "execution_count": 29,
   "metadata": {},
   "outputs": [
    {
     "data": {
      "image/png": "[encoded data removed]",
      "text/plain": [
       "plot without title"
      ]
     },
     "metadata": {},
     "output_type": "display_data"
    }
   ],
   "source": [
    "plot1 <- ggplot(averages, aes(Age, Sig7Med)) +  geom_smooth(method = \"rlm\", se=FALSE) + geom_point() +\n",
    "    xlab(\"Age\") + ylab(\"Signature 7\") + theme_minimal()# + theme(legend.position=\"none\")\n",
    "plot2 <- ggplot(subset(averages.all, Cohort=='BRAF' | Cohort=='NRAS'), aes(Age, Sig7Med, color=Cohort)) +  geom_smooth(method = \"rlm\", se=FALSE) + geom_point() +\n",
    "    xlab(\"Age\") + ylab(\"\") +#scale_y_continuous(limits = c(0,2000)) +\n",
    "    theme_minimal() + theme(legend.position=\"top\")\n",
    "grid.arrange(plot1, plot2, ncol=2)\n",
    "p <- arrangeGrob(plot1, plot2, ncol=2)"
   ]
  },
  {
   "cell_type": "code",
   "execution_count": 30,
   "metadata": {},
   "outputs": [
    {
     "name": "stdout",
     "output_type": "stream",
     "text": [
      "Spearman correlation with age on complete dataset: 0.3139291 with P-value 0.004567033 \n",
      "\n",
      "Spearman rho correlation with age on BRAF dataset: -0.09529206 with P-value 0.7693596 \n",
      "Spearman rho correlation with age on NRAS dataset: 0.3877378 with P-value 0.00465397 \n",
      "Spearman rho correlation with age on NF1 dataset: 0.1194661 with P-value 0.264741 \n",
      "Spearman rho correlation with age on W3 dataset: 0.1861789 with P-value 0.1188967 \n"
     ]
    }
   ],
   "source": [
    "correlation <- cor.test(averages$Age, averages$Sig7Med, method=\"spearman\", alternative=\"greater\", exact=FALSE)\n",
    "cat(\"Spearman correlation with age on complete dataset:\", correlation$estimate, \"with P-value\", correlation$p.value, \"\\n\\n\")\n",
    "for (i in seq(1:4)) {\n",
    "    correlation <- cor.test(avgsets[[i]]$Age, avgsets[[i]]$Sig7Med, method=\"spearman\", alternative=\"greater\", exact=FALSE)\n",
    "    cat(\"Spearman rho correlation with age on\", cohorts[i], \"dataset:\", correlation$estimate, \"with P-value\", correlation$p.value, \"\\n\")\n",
    "    }"
   ]
  },
  {
   "cell_type": "code",
   "execution_count": 31,
   "metadata": {},
   "outputs": [
    {
     "data": {
      "image/png": "[encoded data removed]",
      "text/plain": [
       "plot without title"
      ]
     },
     "metadata": {},
     "output_type": "display_data"
    }
   ],
   "source": [
    "plot1 <- ggplot(data, aes(Cohort, (Sig7Total)/Age, fill=Cohort)) +\n",
    "    geom_boxplot() + ylab(\"Signatures 7 / year\") + theme_minimal() + guides(fill=FALSE) #+ coord_cartesian(ylim = c(0,3))\n",
    "grid.arrange(plot1, ncol=1)\n",
    "p <- arrangeGrob(plot1, ncol=1)"
   ]
  },
  {
   "cell_type": "code",
   "execution_count": 32,
   "metadata": {},
   "outputs": [
    {
     "data": {
      "text/html": [
       "<table>\n",
       "<thead><tr><th></th><th scope=col>BRAF</th><th scope=col>NF1</th><th scope=col>NRAS</th></tr></thead>\n",
       "<tbody>\n",
       "\t<tr><th scope=row>NF1</th><td>0.0090516954</td><td>          NA</td><td>         NA </td></tr>\n",
       "\t<tr><th scope=row>NRAS</th><td>0.0350383274</td><td>0.1436294763</td><td>         NA </td></tr>\n",
       "\t<tr><th scope=row>W3</th><td>0.0006980568</td><td>0.0000189575</td><td>5.36825e-06 </td></tr>\n",
       "</tbody>\n",
       "</table>\n"
      ],
      "text/latex": [
       "\\begin{tabular}{r|lll}\n",
       "  & BRAF & NF1 & NRAS\\\\\n",
       "\\hline\n",
       "\tNF1 & 0.0090516954 &           NA &          NA \\\\\n",
       "\tNRAS & 0.0350383274 & 0.1436294763 &          NA \\\\\n",
       "\tW3 & 0.0006980568 & 0.0000189575 & 5.36825e-06 \\\\\n",
       "\\end{tabular}\n"
      ],
      "text/markdown": [
       "\n",
       "| <!--/--> | BRAF | NF1 | NRAS | \n",
       "|---|---|---|\n",
       "| NF1 | 0.0090516954 |           NA |          NA  | \n",
       "| NRAS | 0.0350383274 | 0.1436294763 |          NA  | \n",
       "| W3 | 0.0006980568 | 0.0000189575 | 5.36825e-06  | \n",
       "\n",
       "\n"
      ],
      "text/plain": [
       "     BRAF         NF1          NRAS       \n",
       "NF1  0.0090516954           NA          NA\n",
       "NRAS 0.0350383274 0.1436294763          NA\n",
       "W3   0.0006980568 0.0000189575 5.36825e-06"
      ]
     },
     "metadata": {},
     "output_type": "display_data"
    }
   ],
   "source": [
    "# Do a two-sided Wilcoxon test\n",
    "newdata <- data\n",
    "pwres <- pairwise.wilcox.test((newdata$Sig7Total)/newdata$Age, newdata$Cohort, exact=FALSE, paired=FALSE, alternative=\"two.sided\", p.adj=\"bonferroni\")\n",
    "pwres$p.value"
   ]
  },
  {
   "cell_type": "markdown",
   "metadata": {},
   "source": [
    "###  <a id='chapter3'><font color=\"grey\">  3. Aging affects the intrinsic mutation rate of the molecular subtypes.</font></a>"
   ]
  },
  {
   "cell_type": "code",
   "execution_count": 33,
   "metadata": {},
   "outputs": [
    {
     "data": {
      "image/png": "[encoded data removed]",
      "text/plain": [
       "plot without title"
      ]
     },
     "metadata": {},
     "output_type": "display_data"
    }
   ],
   "source": [
    "plot1 <- ggplot(subset(data, range != \"(0,30]\" & range != \"(40,50]\" & range != \"(30,40]\"), aes(x=Sig1Total, fill=range)) +\n",
    "    geom_density(alpha=0.7) + theme_minimal() + xlab(\"Mutations\") + ylab(\"Frequency\")\n",
    "plot2 <- ggplot(averages.gender, aes(Age, Sig1Med/Age)) +  geom_smooth(method = \"rlm\", se=FALSE) + geom_point() +\n",
    "    xlab(\"Age\") + ylab(\"Signature 1 / Age\") + theme_minimal() + theme(legend.position=\"none\") + coord_cartesian(ylim = c(0,3))\n",
    "grid.arrange(plot1, plot2, ncol=2)\n",
    "p <- arrangeGrob(plot1, plot2, ncol=2)"
   ]
  },
  {
   "cell_type": "markdown",
   "metadata": {},
   "source": [
    "#### Spearman rho of Sig1/Age against age"
   ]
  },
  {
   "cell_type": "code",
   "execution_count": 34,
   "metadata": {},
   "outputs": [
    {
     "name": "stdout",
     "output_type": "stream",
     "text": [
      "Spearman correlation between Sig1/Age and Age: -0.3559636 with P-value 0.002890285 \n"
     ]
    }
   ],
   "source": [
    "sig1ageagecor <- cor.test(averages$Sig1Med/averages$Age, averages$Age, method=\"spearman\", alternative=\"two.sided\", exact=FALSE)\n",
    "cat(\"Spearman correlation between Sig1/Age and Age:\", sig1ageagecor$estimate, \"with P-value\", sig1ageagecor$p.value, \"\\n\")"
   ]
  },
  {
   "cell_type": "markdown",
   "metadata": {},
   "source": [
    "#### Test Spearman rho correlation across subtypes"
   ]
  },
  {
   "cell_type": "code",
   "execution_count": 35,
   "metadata": {},
   "outputs": [
    {
     "name": "stdout",
     "output_type": "stream",
     "text": [
      "Spearman correlation between Sig1/Age and Age for BRAF: -0.4372647 with P-value 0.0003799167 \n",
      "Spearman correlation between Sig1/Age and Age for NRAS: -0.06469345 with P-value 0.6765238 \n",
      "Spearman correlation between Sig1/Age and Age for NRAS: -0.03330362 with P-value 0.8341543 \n"
     ]
    }
   ],
   "source": [
    "sig1ageagecor.braf <- cor.test(averages.braf$Sig1Med/averages.braf$Age, averages.braf$Age, method=\"spearman\", alternative=\"two.sided\", exact=FALSE)\n",
    "cat(\"Spearman correlation between Sig1/Age and Age for BRAF:\", sig1ageagecor.braf$estimate, \"with P-value\", sig1ageagecor.braf$p.value, \"\\n\")\n",
    "sig1ageagecor.nras <- cor.test(averages.nras$Sig1Med/averages.nras$Age, averages.nras$Age, method=\"spearman\", alternative=\"two.sided\", exact=FALSE)\n",
    "cat(\"Spearman correlation between Sig1/Age and Age for NRAS:\", sig1ageagecor.nras$estimate, \"with P-value\", sig1ageagecor.nras$p.value, \"\\n\")\n",
    "sig1ageagecor.w3 <- cor.test(averages.w3$Sig1Med/averages.w3$Age, averages.w3$Age, method=\"spearman\", alternative=\"two.sided\", exact=FALSE)\n",
    "cat(\"Spearman correlation between Sig1/Age and Age for NRAS:\", sig1ageagecor.w3$estimate, \"with P-value\", sig1ageagecor.w3$p.value, \"\\n\")"
   ]
  },
  {
   "cell_type": "markdown",
   "metadata": {},
   "source": [
    "### <font color=\"grey\">  Intermezzo: the model.</font>"
   ]
  },
  {
   "cell_type": "markdown",
   "metadata": {},
   "source": [
    "In order to more accurately quantify the accumulation of mutations over time, we need to make some model assumptions. While these assumptions may represent oversimplifications, they lead to systematic biases that would hold across different cohorts, and still allow to compare properties of the different types of samples to each other.\n",
    "\n",
    "For the accumulation of mutations at time $t$, [Podolskiy et al](http://www.nature.com/articles/ncomms12157) postulate the following model, assumed to be valid for a certain age range. At each age $t$, the number of muations $N(t)$ is approximately distributed according to a Poisson distribution with rate $\\lambda(t)$,\n",
    "\n",
    "\\begin{equation*}\n",
    "  \\mtx{P}\\{N(t) = n\\} = \\frac{\\lambda(t)^n e^{-\\lambda(t)}}{n!}.\n",
    "\\end{equation*}\n",
    "\n",
    "While [Podolskiy et al](http://www.nature.com/articles/ncomms12157) consider the total number of mutations and argue statistically via the law of large numbers, it is reasonable to assume that the accumulation of units of signature 1 also follows a Poisson-like distribution, or a mixture of Poisson distributions with one dominant component. This component is assumed to describe the accumulation of mutations before clonal expansion, after which the dynamics change. \n",
    "\n",
    "Suppose that at age $t$ we have $N_1(t),\\dots,N_s(t)$ samples. We estimate the parameter $\\lambda(t) = \\lambda(t,X_1,\\dots,X_p) = \\mtx{E}[N(t) \\ | \\ X_1,\\dots,X_p]$ using Poisson regression,\n",
    "\n",
    "\\begin{equation*}\n",
    "  \\log \\mtx{E}[N(t) \\ | \\ X_1,\\dots,X_p ] = \\beta_0 + \\sum_{i=1}^p \\beta_i X_i,\n",
    "\\end{equation*}\n",
    "\n",
    "where the $\\beta_i$ are allowed to depend on $t$. In [Podolskiy et al](http://www.nature.com/articles/ncomms12157), the authors look at small time intervals and determine the Poisson peaks for each of these intervals. \n",
    "The practical problem with the approach described above is that we do not have enough data for reliably estimating Poisson average at each time. We can still try to use, for eath $t$ in a suitable range and $\\Delta t$ (for example, 5 years), to use the interval $(t-\\Delta t, t+\\Delta t]$. A different approach would be to estimate the parameters for all times simultaneously.\n",
    "\n",
    "Under simplifying assumptions, we can just include age (time) $t$ among the dependent variables and solve a standard Poisson model,\n",
    "\n",
    "\\begin{equation*}\n",
    "  \\log \\mtx{E}[N \\ | \\ t, X_1,\\dots,X_p ] = \\beta_0 + \\alpha t + \\sum_{i=1}^p \\beta_i X_i,\n",
    "\\end{equation*}\n",
    "\n",
    "We first try to incorporate as many covariates as possible in the model."
   ]
  },
  {
   "cell_type": "code",
   "execution_count": 36,
   "metadata": {},
   "outputs": [
    {
     "data": {
      "image/png": "[encoded data removed]",
      "text/plain": [
       "plot without title"
      ]
     },
     "metadata": {},
     "output_type": "display_data"
    }
   ],
   "source": [
    "plot1 <- ggplot(averages, aes(Age, Sig1Mean)) +  geom_point() +\n",
    "    geom_smooth(method = \"glm\", aes(Age, as.integer(Sig1Mean)), formula = y ~ x, data=averages, se=FALSE, method.args = (family=\"poisson\")) +\n",
    "    xlab(\"Age\") + ylab(\"Signature 1\") + theme_minimal() + coord_cartesian(ylim = c(0,200))# + theme(legend.position=\"none\")\n",
    "plot2 <- ggplot(averages.all, aes(Age, Sig1Mean, color=Cohort)) +  \n",
    "    geom_smooth(method = \"glm\", aes(Age, as.integer(Sig1Mean)), formula = y ~ x, data=averages.all, se=FALSE, method.args = (family=\"poisson\")) + \n",
    "    geom_point() + xlab(\"Age\") + ylab(\"\") + theme_minimal() + theme(legend.position=\"top\") + coord_cartesian(ylim = c(0,200))\n",
    "p <- arrangeGrob(plot1, plot2, ncol=2)\n",
    "grid.arrange(plot1, plot2, ncol=2)"
   ]
  },
  {
   "cell_type": "markdown",
   "metadata": {},
   "source": [
    "In the model above, we use the formula $N(t)=N_0e^{\\alpha t}$ to model the accumulation of Signature 1 mutations. We estimate the parameters $\\alpha$ and $N_0$ of this model using negative binomial regression. A standard algebraic computation shows that the we should expect a decrease in the ratio of mutations $N/t$ for ages $t<1/\\alpha$ and an increase for ages $t>1/\\alpha$. We compute the critical age threshold below."
   ]
  },
  {
   "cell_type": "code",
   "execution_count": 38,
   "metadata": {},
   "outputs": [
    {
     "name": "stdout",
     "output_type": "stream",
     "text": [
      "alpha:  0.01263395 Inverse of alpha:  79.15182 \n",
      "\n",
      "alpha for BRAF:  0.005916798 Inverse of alpha:  169.0103 \n",
      "alpha for NRAS:  0.01672425 Inverse of alpha:  59.79342 \n",
      "alpha for W3:  0.01881254 Inverse of alpha:  53.15603"
     ]
    }
   ],
   "source": [
    "res <- glm.nb(as.integer(Sig1Med) ~ Age, data=averages)\n",
    "alpha <- coef(res)[\"Age\"]\n",
    "cat(\"alpha: \", alpha, \"Inverse of alpha: \", 1/alpha, \"\\n\\n\")\n",
    "res.braf <- glm.nb(as.integer(Sig1Med) ~ Age, data=averages.braf)\n",
    "alpha.braf <- coef(res.braf)[\"Age\"]\n",
    "cat(\"alpha for BRAF: \", alpha.braf, \"Inverse of alpha: \", 1/alpha.braf, \"\\n\")\n",
    "res.nras <- glm.nb(as.integer(Sig1Med) ~ Age, data=averages.nras)\n",
    "alpha.nras <- coef(res.nras)[\"Age\"]\n",
    "cat(\"alpha for NRAS: \", alpha.nras, \"Inverse of alpha: \", 1/alpha.nras, \"\\n\")\n",
    "res.w3 <- glm.nb(as.integer(Sig1Med) ~ Age, data=averages.w3)\n",
    "alpha.w3 <- coef(res.w3)[\"Age\"]\n",
    "cat(\"alpha for W3: \", alpha.w3, \"Inverse of alpha: \", 1/alpha.w3)"
   ]
  },
  {
   "cell_type": "markdown",
   "metadata": {},
   "source": [
    "Get confidence intervals and P values"
   ]
  },
  {
   "cell_type": "code",
   "execution_count": 40,
   "metadata": {},
   "outputs": [
    {
     "data": {
      "text/plain": [
       "BOOTSTRAP CONFIDENCE INTERVAL CALCULATIONS\n",
       "Based on 1000 bootstrap replicates\n",
       "\n",
       "CALL : \n",
       "boot.ci(boot.out = results, type = \"basic\")\n",
       "\n",
       "Intervals : \n",
       "Level      Basic         \n",
       "95%   ( 0.9803,  0.9908 )  \n",
       "Calculations and Intervals on Original Scale"
      ]
     },
     "metadata": {},
     "output_type": "display_data"
    },
    {
     "data": {
      "text/plain": [
       "BOOTSTRAP CONFIDENCE INTERVAL CALCULATIONS\n",
       "Based on 1000 bootstrap replicates\n",
       "\n",
       "CALL : \n",
       "boot.ci(boot.out = results.braf, type = \"basic\")\n",
       "\n",
       "Intervals : \n",
       "Level      Basic         \n",
       "95%   ( 0.9837,  1.0001 )  \n",
       "Calculations and Intervals on Original Scale"
      ]
     },
     "metadata": {},
     "output_type": "display_data"
    },
    {
     "data": {
      "text/plain": [
       "BOOTSTRAP CONFIDENCE INTERVAL CALCULATIONS\n",
       "Based on 1000 bootstrap replicates\n",
       "\n",
       "CALL : \n",
       "boot.ci(boot.out = results.nras, type = \"basic\")\n",
       "\n",
       "Intervals : \n",
       "Level      Basic         \n",
       "95%   ( 0.9750,  0.9962 )  \n",
       "Calculations and Intervals on Original Scale"
      ]
     },
     "metadata": {},
     "output_type": "display_data"
    },
    {
     "data": {
      "text/plain": [
       "BOOTSTRAP CONFIDENCE INTERVAL CALCULATIONS\n",
       "Based on 1000 bootstrap replicates\n",
       "\n",
       "CALL : \n",
       "boot.ci(boot.out = results.w3, type = \"basic\")\n",
       "\n",
       "Intervals : \n",
       "Level      Basic         \n",
       "95%   ( 0.9608,  0.9904 )  \n",
       "Calculations and Intervals on Original Scale"
      ]
     },
     "metadata": {},
     "output_type": "display_data"
    }
   ],
   "source": [
    "expalpha <- function(data, indices) {\n",
    "  d <- data[indices,] # allows boot to select sample \n",
    "  res <- glm.nb(as.integer(d$Sig1Total) ~ d$Age, data = d)\n",
    "  return(1/unname(exp(coef(res)[\"d$Age\"])))\n",
    "} \n",
    "results <- boot(data=data, statistic=expalpha, R=1000)\n",
    "boot.ci(results, type=\"basic\")\n",
    "results.braf <- boot(data=subset(data, Cohort=='BRAF'), statistic=expalpha, R=1000)\n",
    "boot.ci(results.braf, type=\"basic\")\n",
    "results.nras <- boot(data=subset(data, Cohort=='NRAS'), statistic=expalpha, R=1000)\n",
    "boot.ci(results.nras, type=\"basic\")\n",
    "results.w3 <- boot(data=subset(data, Cohort=='W3'), statistic=expalpha, R=1000)\n",
    "boot.ci(results.w3, type=\"basic\")"
   ]
  },
  {
   "cell_type": "markdown",
   "metadata": {},
   "source": [
    "We next fit the curves $N_0e^{\\alpha t}$ with the estimated parameters to the data."
   ]
  },
  {
   "cell_type": "code",
   "execution_count": 41,
   "metadata": {},
   "outputs": [],
   "source": [
    "expfun.braf <- function(x) {\n",
    "    return(unname(exp(coef(res.braf)[\"(Intercept)\"]))*exp(unname(coef(res.braf)[\"Age\"])*x)/x)\n",
    "    }\n",
    "expfun.nras <- function(x) {\n",
    "    return(exp(unname(coef(res.nras)[\"(Intercept)\"]))*exp(unname(coef(res.nras)[\"Age\"])*x)/x)\n",
    "    }\n",
    "expfun.w3 <- function(x) {\n",
    "    return(exp(unname(coef(res.w3)[\"(Intercept)\"]))*exp(unname(coef(res.w3)[\"Age\"])*x)/x)\n",
    "    }"
   ]
  },
  {
   "cell_type": "code",
   "execution_count": 42,
   "metadata": {},
   "outputs": [],
   "source": [
    "line.braf <- data.frame(x = seq(20,90, by=0.1), y=sapply(seq(20,90, by=0.1), expfun.braf))\n",
    "line.nras <- data.frame(x = seq(30,90, by=0.1), y=sapply(seq(30,90, by=0.1), expfun.nras))\n",
    "line.w3 <- data.frame(x = seq(30,90, by=0.1), y=sapply(seq(30,90, by=0.1), expfun.w3))"
   ]
  },
  {
   "cell_type": "code",
   "execution_count": 43,
   "metadata": {},
   "outputs": [
    {
     "data": {
      "image/png": "[encoded data removed]",
      "text/plain": [
       "plot without title"
      ]
     },
     "metadata": {},
     "output_type": "display_data"
    }
   ],
   "source": [
    "plot1 <- ggplot(averages.braf, aes(Age, Sig1Med/Age)) + geom_point() +\n",
    "    xlab(\"Age\") + ylab(\"Signature 1 / Age\") + theme_minimal() + theme(legend.position=\"none\") + ggtitle('BRAF') + coord_cartesian(ylim = c(0,3))+ geom_line(data=line.braf, aes(x, y), color=\"blue\", size=1)\n",
    "plot2 <- ggplot(averages.nras, aes(Age, Sig1Mean/Age)) + geom_point() +\n",
    "    xlab(\"Age\") + ylab(\"\") + theme_minimal() + theme(legend.position=\"none\") + ggtitle('NRAS') + coord_cartesian(ylim = c(0,3))+ geom_line(data=line.nras, aes(x, y), color=\"blue\", size=1)\n",
    "plot3 <- ggplot(averages.w3, aes(Age, Sig1Mean/Age)) + geom_point() +\n",
    "    xlab(\"Age\") + ylab(\"\") + theme_minimal() + theme(legend.position=\"none\") + ggtitle('W3') + coord_cartesian(ylim = c(0,3))+ geom_line(data=line.w3, aes(x, y), color=\"blue\", size=1)\n",
    "grid.arrange(plot1, plot2, plot3, ncol=3, nrow=1)\n",
    "p <- arrangeGrob(plot1, plot2, plot3, ncol=3, nrow=1)"
   ]
  },
  {
   "cell_type": "markdown",
   "metadata": {},
   "source": [
    "###  <a id='chapter4'><font color=\"grey\">  4. Signature 1 and signature 7 mutations are tightly correlated and together contribute to melanoma across all molecular subtypes.  </font></a>"
   ]
  },
  {
   "cell_type": "code",
   "execution_count": 44,
   "metadata": {},
   "outputs": [],
   "source": [
    "# Compute averages of relative contribution of sig 1 and sig 7\n",
    "nosig.braf <- 1-mean(subset(data, Cohort=='BRAF')$Sig1pSig7)\n",
    "nosig.nras <- 1-mean(subset(data, Cohort=='NRAS')$Sig1pSig7)\n",
    "nosig.nf1 <- 1-mean(subset(data, Cohort=='NF1')$Sig1pSig7)\n",
    "nosig.w3 <- 1-mean(subset(data, Cohort=='W3')$Sig1pSig7)\n",
    "sig7.braf <- mean(subset(data, Cohort=='BRAF')$Sig7Rel)\n",
    "sig7.nras <- mean(subset(data, Cohort=='NRAS')$Sig7Rel)\n",
    "sig7.nf1 <- mean(subset(data, Cohort=='NF1')$Sig7Rel)\n",
    "sig7.w3 <- mean(subset(data, Cohort=='W3')$Sig7Rel)\n",
    "sig1.braf <- mean(subset(data, Cohort=='BRAF')$Sig1Rel)\n",
    "sig1.nras <- mean(subset(data, Cohort=='NRAS')$Sig1Rel)\n",
    "sig1.nf1 <- mean(subset(data, Cohort=='NF1')$Sig1Rel)\n",
    "sig1.w3 <- mean(subset(data, Cohort=='W3')$Sig1Rel) \n",
    "sig5.braf <- mean(subset(data, Cohort=='BRAF')$Sig5Rel)\n",
    "sig5.nras <- mean(subset(data, Cohort=='NRAS')$Sig5Rel)\n",
    "sig5.nf1 <- mean(subset(data, Cohort=='NF1')$Sig5Rel)\n",
    "sig5.w3 <- mean(subset(data, Cohort=='W3')$Sig5Rel) "
   ]
  },
  {
   "cell_type": "code",
   "execution_count": 45,
   "metadata": {},
   "outputs": [
    {
     "data": {
      "image/png": "[encoded data removed]",
      "text/plain": [
       "plot without title"
      ]
     },
     "metadata": {},
     "output_type": "display_data"
    }
   ],
   "source": [
    "proportions <- c(sig1.braf, sig1.nras, sig1.nf1, sig1.w3, \n",
    "                 sig7.braf, sig7.nras, sig7.nf1, sig7.w3, \n",
    "                 sig5.braf, sig5.nras, sig5.nf1, sig5.w3,\n",
    "                 nosig.braf, nosig.nras, nosig.nf1, nosig.w3)\n",
    "labels <- c(rep(c('BRAF','NRAS','NF1','W3'),4))\n",
    "types <- c(rep(\"Sig1\",4), rep(\"Sig7\",4), rep(\"Sig5\",4), rep(\"Nosig\",4))\n",
    "newdata <- data.frame(labels, proportions, types)\n",
    "p <- ggplot(data=newdata[order(newdata$types),], aes(labels, proportions, fill=types)) + geom_bar(stat = \"identity\") + \n",
    "    xlab(\"Subtypes\") + ylab(\"Mean proportion of Signatures\") + theme_minimal() + \n",
    "    scale_fill_discrete(name=\"Mutation signature\", breaks=c(\"Sig1\",\"Sig7\",\"Sig5\",\"Nosig\"), labels=c(\"Signature 1\", \"Signature 7\", \"Signature 5\", \"Other\"))\n",
    "grid.arrange(p)"
   ]
  },
  {
   "cell_type": "markdown",
   "metadata": {},
   "source": [
    "Plot Signature 1 against Signature 7"
   ]
  },
  {
   "cell_type": "code",
   "execution_count": 47,
   "metadata": {},
   "outputs": [],
   "source": [
    "# Compute median sig1 for each sig7\n",
    "averages.sig7 <- data.frame(Sig7Total=sig7ranges)\n",
    "averages.sig7$Sig1Med <- NA\n",
    "for (s in sig7ranges) {\n",
    "  i <- match(s,averages.sig7$Sig7Total)\n",
    "  averages.sig7[i,c(\"Sig1Med\")] <- median(data[which(data$sig7range==s),\"Sig1Total\"])\n",
    "}\n",
    "# Compute median sig1 for each sig7 subdivided by cohorts\n",
    "averages.sig7.cohort <- data.frame(Sig7Total=integer(), Sig1Med=double(), Cohort=character())\n",
    "for (j in seq(4)) {\n",
    "    sig7 <- sort(unique(subset(data,Cohort==cohorts[j])$sig7range)[!is.na(unique(subset(data,Cohort==cohorts[j])$sig7range))])\n",
    "    averages.temp <- data.frame(Sig7Total=sig7, Sig1Med=as.double(NA))\n",
    "    for (s in sig7) {\n",
    "        i <- match(s,averages.temp$Sig7Total)\n",
    "        averages.temp[i,c(\"Sig1Med\")] <- median(data[which(data$sig7range==s & data$Cohort==cohorts[j]),\"Sig1Total\"])\n",
    "        }\n",
    "    averages.temp$Cohort <- cohorts[j]\n",
    "    averages.sig7.cohort <- rbind(averages.sig7.cohort, averages.temp)\n",
    "    }"
   ]
  },
  {
   "cell_type": "code",
   "execution_count": 48,
   "metadata": {},
   "outputs": [
    {
     "data": {
      "image/png": "[encoded data removed]",
      "text/plain": [
       "plot without title"
      ]
     },
     "metadata": {},
     "output_type": "display_data"
    }
   ],
   "source": [
    "plot1 <- ggplot(subset(averages.sig7, Sig7Total<2500), aes(Sig7Total, Sig1Med)) +  geom_smooth(method = \"rlm\", se=FALSE) + geom_point() +\n",
    "    xlab(\"Signature 7\") + ylab(\"Signature 1\") + theme_minimal()# + theme(legend.position=\"none\")\n",
    "plot2 <- ggplot(subset(averages.sig7.cohort, (Cohort=='BRAF' | Cohort=='NRAS') & Sig7Total<2500), aes(Sig7Total, Sig1Med, color=Cohort)) +  geom_smooth(method = \"rlm\", se=FALSE) + geom_point() +\n",
    "    xlab(\"Signature 7\") + ylab(\"\") +# scale_y_continuous(limits = c(0,2000)) +\n",
    "    theme_minimal() + theme(legend.position=\"top\")\n",
    "grid.arrange(plot1, plot2, ncol=2)\n",
    "p <- arrangeGrob(plot1, plot2, ncol=2)"
   ]
  },
  {
   "cell_type": "markdown",
   "metadata": {},
   "source": [
    "#### Robust regression"
   ]
  },
  {
   "cell_type": "code",
   "execution_count": 49,
   "metadata": {},
   "outputs": [
    {
     "name": "stdout",
     "output_type": "stream",
     "text": [
      "(Total) Slope on robust regression: 0.03976314 with P-value 5.063217e-37 \n"
     ]
    }
   ],
   "source": [
    "res<-rlm(Sig1Med ~ Sig7Total, data=averages.sig7)\n",
    "slope.total <- unname(coef(res)['Sig7Total'])\n",
    "p1.total <- f.robftest(res, var = \"Sig7Total\")$p.value\n",
    "cat(\"(Total) Slope on robust regression:\", slope.total, \"with P-value\", p1.total, \"\\n\")"
   ]
  },
  {
   "cell_type": "markdown",
   "metadata": {},
   "source": [
    "#### Spearman rho correlation"
   ]
  },
  {
   "cell_type": "code",
   "execution_count": 50,
   "metadata": {},
   "outputs": [
    {
     "name": "stdout",
     "output_type": "stream",
     "text": [
      "Spearman correlation between Signature 1 and Signature 7: 0.7815223 with P-value 6.343658e-32 \n"
     ]
    }
   ],
   "source": [
    "sig1sig7cor <- cor.test(averages.sig7$Sig7Total, averages.sig7$Sig1Med, method=\"spearman\", alternative=\"two.sided\", exact=FALSE)\n",
    "cat(\"Spearman correlation between Signature 1 and Signature 7:\", sig1sig7cor$estimate, \"with P-value\", sig1sig7cor$p.value, \"\\n\")"
   ]
  },
  {
   "cell_type": "markdown",
   "metadata": {},
   "source": [
    "#### Robust regression across subtypes"
   ]
  },
  {
   "cell_type": "code",
   "execution_count": 51,
   "metadata": {},
   "outputs": [
    {
     "name": "stdout",
     "output_type": "stream",
     "text": [
      "(Total) Slope on robust regression for BRAF : 0.03253311 with P-value 1.31506e-17 \n",
      "(Total) Slope on robust regression for NRAS : 0.04586502 with P-value 3.903196e-13 \n",
      "(Total) Slope on robust regression for NF1 : 0.03561728 with P-value 8.149728e-09 \n",
      "(Total) Slope on robust regression for W3 : 0.05867162 with P-value 3.655884e-18 \n"
     ]
    }
   ],
   "source": [
    "for (i in seq(1:4)) {\n",
    "    res<-rlm(Sig1Med ~ Sig7Total, data=subset(averages.sig7.cohort, Cohort==cohorts[i]))\n",
    "    slope.total <- unname(coef(res)['Sig7Total'])\n",
    "    p1.total <- f.robftest(res, var = \"Sig7Total\")$p.value\n",
    "    cat(\"(Total) Slope on robust regression for\", cohorts[i], \":\", slope.total, \"with P-value\", p1.total, \"\\n\")\n",
    "    }"
   ]
  },
  {
   "cell_type": "markdown",
   "metadata": {},
   "source": [
    "#### Spearman rho across subtypes"
   ]
  },
  {
   "cell_type": "code",
   "execution_count": 54,
   "metadata": {},
   "outputs": [
    {
     "name": "stdout",
     "output_type": "stream",
     "text": [
      "Spearman rho correlation between Signature 1 and Signature 7\n",
      "\n",
      "( BRAF ) Spearman correlation between Signature 1 and Signature 7: 0.7400912 with P-value 2.925301e-15 \n",
      "( NRAS ) Spearman correlation between Signature 1 and Signature 7: 0.7027461 with P-value 2.390892e-11 \n",
      "( NF1 ) Spearman correlation between Signature 1 and Signature 7: 0.7280921 with P-value 3.270002e-07 \n",
      "( W3 ) Spearman correlation between Signature 1 and Signature 7: 0.7596353 with P-value 5.447156e-09 \n"
     ]
    }
   ],
   "source": [
    "# Determine slope and intersept with corresponding P values for robust linear regression on all the data\n",
    "cat(\"Spearman rho correlation between Signature 1 and Signature 7\\n\\n\")\n",
    "for (i in seq(1:4)) {\n",
    "    sig1sig7cor <- cor.test(subset(averages.sig7.cohort, Cohort==cohorts[i])$Sig7Total, subset(averages.sig7.cohort, Cohort==cohorts[i])$Sig1Med, method=\"spearman\", alternative=\"two.sided\", exact=FALSE)\n",
    "    cat(\"(\", cohorts[i], \")\", \"Spearman correlation between Signature 1 and Signature 7:\", sig1sig7cor$estimate, \"with P-value\", sig1sig7cor$p.value, \"\\n\")\n",
    "}"
   ]
  },
  {
   "cell_type": "markdown",
   "metadata": {},
   "source": [
    "#### Mann-Whitney U test for ratio Sig1/Sig7 across subtypes"
   ]
  },
  {
   "cell_type": "code",
   "execution_count": 55,
   "metadata": {},
   "outputs": [
    {
     "data": {
      "text/html": [
       "<table>\n",
       "<thead><tr><th></th><th scope=col>BRAF</th><th scope=col>NF1</th><th scope=col>NRAS</th></tr></thead>\n",
       "<tbody>\n",
       "\t<tr><th scope=row>NF1</th><td>0.6464553</td><td>       NA</td><td>NA       </td></tr>\n",
       "\t<tr><th scope=row>NRAS</th><td>1.0000000</td><td>0.6422851</td><td>NA       </td></tr>\n",
       "\t<tr><th scope=row>W3</th><td>1.0000000</td><td>1.0000000</td><td> 1       </td></tr>\n",
       "</tbody>\n",
       "</table>\n"
      ],
      "text/latex": [
       "\\begin{tabular}{r|lll}\n",
       "  & BRAF & NF1 & NRAS\\\\\n",
       "\\hline\n",
       "\tNF1 & 0.6464553 &        NA & NA       \\\\\n",
       "\tNRAS & 1.0000000 & 0.6422851 & NA       \\\\\n",
       "\tW3 & 1.0000000 & 1.0000000 &  1       \\\\\n",
       "\\end{tabular}\n"
      ],
      "text/markdown": [
       "\n",
       "| <!--/--> | BRAF | NF1 | NRAS | \n",
       "|---|---|---|\n",
       "| NF1 | 0.6464553 |        NA | NA        | \n",
       "| NRAS | 1.0000000 | 0.6422851 | NA        | \n",
       "| W3 | 1.0000000 | 1.0000000 |  1        | \n",
       "\n",
       "\n"
      ],
      "text/plain": [
       "     BRAF      NF1       NRAS\n",
       "NF1  0.6464553        NA NA  \n",
       "NRAS 1.0000000 0.6422851 NA  \n",
       "W3   1.0000000 1.0000000  1  "
      ]
     },
     "metadata": {},
     "output_type": "display_data"
    }
   ],
   "source": [
    "# Do a two-sided Wilcoxon test\n",
    "newdata <- subset(averages.sig7.cohort, Sig7Total>0)\n",
    "pwres <- pairwise.wilcox.test(newdata$Sig1Med/newdata$Sig7Total, newdata$Cohort, exact=FALSE, p.adj=\"bonferroni\")\n",
    "pwres$p.value"
   ]
  },
  {
   "cell_type": "markdown",
   "metadata": {},
   "source": [
    "#### Wilcoxon rank-sum test for ratio Sig1/Sig7 for BRAF and NRAS"
   ]
  },
  {
   "cell_type": "code",
   "execution_count": 56,
   "metadata": {},
   "outputs": [
    {
     "name": "stdout",
     "output_type": "stream",
     "text": [
      "P-value for BRAF vs NRAS: 0.1989979 \n"
     ]
    }
   ],
   "source": [
    "# Only compare BRAF and NRAS\n",
    "newdata.braf <- subset(data, Cohort=='BRAF' & Sig7Total>0)\n",
    "newdata.nras <- subset(data, Cohort=='NRAS' & Sig7Total>0)\n",
    "pwres <- wilcox.test(newdata.braf$Sig1Total/newdata.braf$Sig7Total, newdata.nras$Sig1Total/newdata.nras$Sig7Total, exact=FALSE, pairwise=FALSE)\n",
    "cat(\"P-value for BRAF vs NRAS:\", pwres$p.value, '\\n')"
   ]
  },
  {
   "cell_type": "markdown",
   "metadata": {},
   "source": [
    "#### Effect of MC1R"
   ]
  },
  {
   "cell_type": "code",
   "execution_count": 57,
   "metadata": {},
   "outputs": [
    {
     "name": "stdout",
     "output_type": "stream",
     "text": [
      "Spearman rho correlation between Signature 1 and Signature 7\n",
      "\n",
      "( 0 R alleles ) Spearman correlation between Signature 1 and Signature 7: 0.7513329 with P-value 1.71296e-22 \n",
      "( 1-2 R alleles ) Spearman correlation between Signature 1 and Signature 7: 0.6897791 with P-value 2.936009e-17 \n"
     ]
    }
   ],
   "source": [
    "# Determine slope and intersept with corresponding P values for robust linear regression on all the data\n",
    "cat(\"Spearman rho correlation between Signature 1 and Signature 7\\n\\n\")\n",
    "for (i in seq(1:2)) {\n",
    "    sig1sig7cor <- cor.test(subset(mydata, Rallele==alleles[i])$Sig7Total, subset(mydata, Rallele==alleles[i])$Sig1Total, method=\"spearman\", alternative=\"two.sided\", exact=FALSE)\n",
    "    cat(\"(\", alleles[i], \")\", \"Spearman correlation between Signature 1 and Signature 7:\", sig1sig7cor$estimate, \"with P-value\", sig1sig7cor$p.value, \"\\n\")\n",
    "}"
   ]
  },
  {
   "cell_type": "markdown",
   "metadata": {},
   "source": [
    "#### Effect of Gender"
   ]
  },
  {
   "cell_type": "code",
   "execution_count": 58,
   "metadata": {},
   "outputs": [],
   "source": [
    "# Compute averages in separate data frame (MALE)\n",
    "sig7male <- sort(unique(subset(data,Gender==\"MALE\")$sig7range)[!is.na(unique(subset(data,Gender==\"MALE\")$sig7range))])\n",
    "averages.male.sig7 <- data.frame(Sig7Total=sig7male)\n",
    "averages.male.sig7$Sig1Med <- NA\n",
    "for (s in sig7male) {\n",
    "  i <- match(s,averages.male.sig7$Sig7Total)\n",
    "  averages.male.sig7[i,c(\"Sig1Med\")] <- median(data[which(data$sig7range==s & data$Gender==\"MALE\"),\"Sig1Total\"])\n",
    "}\n",
    "# Compute averages in separate data frame (FEMALE)\n",
    "sig7female <- sort(unique(subset(data,Gender==\"FEMALE\")$sig7range)[!is.na(unique(subset(data,Gender==\"FEMALE\")$sig7range))])\n",
    "averages.female.sig7 <- data.frame(Sig7Total=sig7female)\n",
    "averages.female.sig7$Sig1Med <- NA\n",
    "for (s in sig7female) {\n",
    "  i <- match(s,averages.female.sig7$Sig7Total)\n",
    "  averages.female.sig7[i,c(\"Sig1Med\")] <- median(data[which(data$sig7range==s & data$Gender==\"FEMALE\"),\"Sig1Total\"])\n",
    "}\n",
    "averages.male.sig7$Gender <- \"MALE\"\n",
    "averages.female.sig7$Gender <- \"FEMALE\"\n",
    "averages.gender.sig7 <- rbind(averages.male.sig7, averages.female.sig7)"
   ]
  },
  {
   "cell_type": "code",
   "execution_count": 59,
   "metadata": {},
   "outputs": [
    {
     "data": {
      "image/png": "[encoded data removed]",
      "text/plain": [
       "plot without title"
      ]
     },
     "metadata": {},
     "output_type": "display_data"
    }
   ],
   "source": [
    "plot1 <- ggplot(subset(averages.sig7, Sig7Total<2500), aes(Sig7Total, Sig1Med)) +  geom_smooth(method = \"lm\", se=FALSE) + geom_point() +\n",
    "    xlab(\"Signature 7\") + ylab(\"Signature 1\") + theme_minimal()# + theme(legend.position=\"none\")\n",
    "plot2 <- ggplot(subset(averages.gender.sig7, Sig7Total<2500), aes(Sig7Total, Sig1Med, color=Gender)) +  geom_smooth(method = \"lm\", se=FALSE) + geom_point() +\n",
    "    xlab(\"Signature 7\") + ylab(\"Signature 1\") +# scale_y_continuous(limits = c(0,2000)) +\n",
    "    theme_minimal() + theme(legend.position=\"top\")\n",
    "grid.arrange(plot1, plot2, ncol=2)\n",
    "p <- arrangeGrob(plot1, plot2, ncol=2)"
   ]
  },
  {
   "cell_type": "code",
   "execution_count": 60,
   "metadata": {},
   "outputs": [
    {
     "name": "stdout",
     "output_type": "stream",
     "text": [
      "Spearman rho correlation between Signature 1 and Signature 7\n",
      "\n",
      "( MALE ) Spearman correlation between Signature 1 and Signature 7: 0.700312 with P-value 6.987017e-38 \n",
      "( FEMALE ) Spearman correlation between Signature 1 and Signature 7: 0.6881077 with P-value 3.161954e-22 \n"
     ]
    }
   ],
   "source": [
    "# Determine slope and intersept with corresponding P values for robust linear regression on all the data\n",
    "cat(\"Spearman rho correlation between Signature 1 and Signature 7\\n\\n\")\n",
    "for (i in seq(1:2)) {\n",
    "    sig1sig7cor <- cor.test(subset(data, Gender==genders[i])$Sig7Total, subset(data, Gender==genders[i])$Sig1Total, method=\"spearman\", alternative=\"two.sided\", exact=FALSE)\n",
    "    cat(\"(\", genders[i], \")\", \"Spearman correlation between Signature 1 and Signature 7:\", sig1sig7cor$estimate, \"with P-value\", sig1sig7cor$p.value, \"\\n\")\n",
    "}"
   ]
  },
  {
   "cell_type": "markdown",
   "metadata": {},
   "source": [
    "###  <a id='chapter5'><font color=\"grey\">  5. The proportion and spectra of intrinsic and extrinsic mutations varies according to gender.</font></a>"
   ]
  },
  {
   "cell_type": "markdown",
   "metadata": {},
   "source": [
    "There is not a significant difference between the ratio of Signature 1 mutations and gender overall, and it is hard to really detect any differences."
   ]
  },
  {
   "cell_type": "code",
   "execution_count": 61,
   "metadata": {},
   "outputs": [],
   "source": [
    "# Compute averages in separate data frame (MALE)\n",
    "agemale <- sort(unique(subset(data,Gender==\"MALE\")$Age)[!is.na(unique(subset(data,Gender==\"MALE\")$Age))])\n",
    "averages.male.age <- data.frame(Age=agemale)\n",
    "averages.male.age$Sig1Med <- NA\n",
    "for (s in agemale) {\n",
    "  i <- match(s,averages.male.age$Age)\n",
    "  averages.male.age[i,c(\"Sig1Med\")] <- median(data[which(data$agemale==s & data$Gender==\"MALE\"),\"Sig1Total\"])\n",
    "  averages.male.age[i,c(\"Sig7Med\")] <- median(data[which(data$agemale==s & data$Gender==\"MALE\"),\"Sig7Total\"])\n",
    "}\n",
    "# Compute averages in separate data frame (FEMALE)\n",
    "agefemale <- sort(unique(subset(data,Gender==\"FEMALE\")$Age)[!is.na(unique(subset(data,Gender==\"FEMALE\")$Age))])\n",
    "averages.female.age <- data.frame(Age=agefemale)\n",
    "averages.female.age$Sig1Med <- NA\n",
    "for (s in agefemale) {\n",
    "  i <- match(s,averages.female.age$Age)\n",
    "  averages.female.age[i,c(\"Sig1Med\")] <- median(data[which(data$agefemale==s & data$Gender==\"FEMALE\"),\"Sig1Total\"])\n",
    "  averages.female.age[i,c(\"Sig7Med\")] <- median(data[which(data$agefemale==s & data$Gender==\"FEMALE\"),\"Sig7Total\"])\n",
    "}\n",
    "averages.male.age$Gender <- \"MALE\"\n",
    "averages.female.age$Gender <- \"FEMALE\"\n",
    "averages.gender.age <- rbind(averages.male.age, averages.female.age)"
   ]
  },
  {
   "cell_type": "code",
   "execution_count": 62,
   "metadata": {},
   "outputs": [
    {
     "data": {
      "image/png": "[encoded data removed]",
      "text/plain": [
       "plot without title"
      ]
     },
     "metadata": {},
     "output_type": "display_data"
    }
   ],
   "source": [
    "plot1 <- ggplot(data, aes(Gender, Sig1Total/Age, fill=Gender)) +\n",
    "    geom_boxplot() + ylab(\"Signatures 1/ Age\") + theme_minimal() + coord_cartesian(ylim = c(0,2)) + \n",
    "    scale_fill_aaas() +\n",
    "    guides(fill=FALSE) + xlab(\"\")\n",
    "plot2 <- ggplot(transform(subset(data, Cohort=='BRAF' | Cohort=='NRAS'),\n",
    "      Cohort=factor(Cohort,levels=c(\"BRAF\",\"NRAS\"))), aes(Gender, Sig1Total/Age, fill=Gender)) +\n",
    "    scale_fill_aaas() +\n",
    "    geom_boxplot() + ylab(\"Signatures 1/ Age\") + theme_minimal() + #coord_cartesian(ylim = c(0,55)) + \n",
    "    guides(fill=FALSE) + facet_wrap(~ Cohort, ncol=4) + xlab(\"\")\n",
    "grid.arrange(plot1, plot2, ncol=2)\n",
    "p <- arrangeGrob(plot1, plot2, ncol=2)"
   ]
  },
  {
   "cell_type": "markdown",
   "metadata": {},
   "source": [
    "#### Spearman rho correlation and ratio test"
   ]
  },
  {
   "cell_type": "code",
   "execution_count": 63,
   "metadata": {},
   "outputs": [
    {
     "name": "stdout",
     "output_type": "stream",
     "text": [
      "Spearman correlation with age on complete dataset: 0.3527963 with P-value 0.001584711 \n",
      "\n",
      "Spearman rho correlation with age on MALE dataset: 0.4472775 with P-value 0.00023767 \n",
      "Spearman rho correlation with age on FEMALE dataset: 0.1240847 with P-value 0.3448662 \n"
     ]
    }
   ],
   "source": [
    "correlation <- cor.test(averages$Age, averages$Sig1Med, method=\"spearman\", alternative=\"greater\", exact=FALSE)\n",
    "cat(\"Spearman correlation with age on complete dataset:\", correlation$estimate, \"with P-value\", correlation$p.value, \"\\n\\n\")\n",
    "for (i in seq(1:2)) {\n",
    "    tempdata <- subset(averages.gender, Gender==genders[i])\n",
    "    correlation <- cor.test(tempdata$Age, tempdata$Sig1Med, method=\"spearman\", alternative=\"two.sided\", exact=FALSE)\n",
    "    cat(\"Spearman rho correlation with age on\", genders[i], \"dataset:\", correlation$estimate, \"with P-value\", correlation$p.value, \"\\n\")\n",
    "    }"
   ]
  },
  {
   "cell_type": "code",
   "execution_count": 64,
   "metadata": {},
   "outputs": [
    {
     "name": "stdout",
     "output_type": "stream",
     "text": [
      "1.23913 \n",
      "P-value for Male vs Female: 0.009935478 \n"
     ]
    }
   ],
   "source": [
    "# Wilcoxon rank sum test\n",
    "newdata.male <- subset(averages.gender, Gender=='MALE')\n",
    "newdata.female <- subset(averages.gender, Gender=='FEMALE')\n",
    "cat(median(newdata.male$Sig1Med/newdata.male$Age)/median(newdata.female$Sig1Med/newdata.female$Age),\"\\n\")\n",
    "pwres <- wilcox.test(newdata.male$Sig1Med/newdata.male$Age, newdata.female$Sig1Med/newdata.female$Age, exact=FALSE, pairwise=FALSE)\n",
    "cat(\"P-value for Male vs Female:\", pwres$p.value, '\\n')"
   ]
  },
  {
   "cell_type": "code",
   "execution_count": 65,
   "metadata": {},
   "outputs": [
    {
     "name": "stdout",
     "output_type": "stream",
     "text": [
      "P-value for Male vs Female in BRAF : 0.1002236 \n",
      "P-value for Male vs Female in NRAS : 0.601616 \n"
     ]
    }
   ],
   "source": [
    "# Wilcoxon rank sum test by cohorts\n",
    "for (i in seq(2)) {\n",
    "    newdata.male <- subset(data, Gender=='MALE' & Cohort==cohorts[i])\n",
    "    newdata.female <- subset(data, Gender=='FEMALE' & Cohort==cohorts[i])\n",
    "    pwres <- wilcox.test(newdata.male$Sig1Total/newdata.male$Age, newdata.female$Sig1Total/newdata.female$Age, alternative=\"two.sided\", exact=FALSE, pairwise=FALSE)\n",
    "    cat(\"P-value for Male vs Female in\", cohorts[i], \":\", pwres$p.value, \"\\n\")\n",
    "    }"
   ]
  },
  {
   "cell_type": "code",
   "execution_count": 66,
   "metadata": {},
   "outputs": [
    {
     "data": {
      "text/html": [
       "40"
      ],
      "text/latex": [
       "40"
      ],
      "text/markdown": [
       "40"
      ],
      "text/plain": [
       "[1] 40"
      ]
     },
     "metadata": {},
     "output_type": "display_data"
    }
   ],
   "source": [
    "q <- quantile(data$Sig7Total/data$Age,0.1)\n",
    "LowSig7data <- subset(data, Sig7Total/Age<q)\n",
    "nrow(LowSig7data)"
   ]
  },
  {
   "cell_type": "code",
   "execution_count": 67,
   "metadata": {},
   "outputs": [
    {
     "data": {
      "text/html": [
       "22"
      ],
      "text/latex": [
       "22"
      ],
      "text/markdown": [
       "22"
      ],
      "text/plain": [
       "[1] 22"
      ]
     },
     "metadata": {},
     "output_type": "display_data"
    }
   ],
   "source": [
    "nrow(subset(LowSig7data, Gender=='MALE'))"
   ]
  },
  {
   "cell_type": "code",
   "execution_count": 68,
   "metadata": {},
   "outputs": [],
   "source": [
    "# Compute averages in separate data frame (MALE)\n",
    "agemale <- sort(unique(subset(LowSig7data,Gender==\"MALE\")$Age)[!is.na(unique(subset(LowSig7data,Gender==\"MALE\")$Age))])\n",
    "averages.male.age <- data.frame(Age=agemale)\n",
    "averages.male.age$Sig1Med <- NA\n",
    "for (s in agemale) {\n",
    "  i <- match(s,averages.male.age$Age)\n",
    "  averages.male.age[i,c(\"Sig1Med\")] <- median(LowSig7data[which(LowSig7data$agemale==s & LowSig7data$Gender==\"MALE\"),\"Sig1Total\"])\n",
    "  averages.male.age[i,c(\"Sig7Med\")] <- median(LowSig7data[which(LowSig7data$agemale==s & LowSig7data$Gender==\"MALE\"),\"Sig7Total\"])\n",
    "}\n",
    "# Compute averages in separate data frame (FEMALE)\n",
    "agefemale <- sort(unique(subset(LowSig7data,Gender==\"FEMALE\")$Age)[!is.na(unique(subset(LowSig7data,Gender==\"FEMALE\")$Age))])\n",
    "averages.female.age <- data.frame(Age=agefemale)\n",
    "averages.female.age$Sig1Med <- NA\n",
    "for (s in agefemale) {\n",
    "  i <- match(s,averages.female.age$Age)\n",
    "  averages.female.age[i,c(\"Sig1Med\")] <- median(LowSig7data[which(LowSig7data$agefemale==s & LowSig7data$Gender==\"FEMALE\"),\"Sig1Total\"])\n",
    "  averages.female.age[i,c(\"Sig7Med\")] <- median(LowSig7data[which(LowSig7data$agefemale==s & LowSig7data$Gender==\"FEMALE\"),\"Sig7Total\"])\n",
    "}\n",
    "averages.male.age$Gender <- \"MALE\"\n",
    "averages.female.age$Gender <- \"FEMALE\"\n",
    "averages.gender.age.lowsig7 <- rbind(averages.male.age, averages.female.age)"
   ]
  },
  {
   "cell_type": "markdown",
   "metadata": {},
   "source": [
    "Estimate the $\\alpha$ parameter for male and female."
   ]
  },
  {
   "cell_type": "code",
   "execution_count": 69,
   "metadata": {},
   "outputs": [
    {
     "name": "stdout",
     "output_type": "stream",
     "text": [
      "0.02102715 47.55756 \n",
      "0.001600297 624.8841 \n"
     ]
    }
   ],
   "source": [
    "res.male <- glm.nb(as.integer(Sig1Med) ~ Age, data=subset(averages.gender, Gender=='MALE' & Age>29))\n",
    "alpha.male <- coef(res.male)[\"Age\"]\n",
    "cat(alpha.male, 1/alpha.male, \"\\n\")\n",
    "res.female <- glm.nb(as.integer(Sig1Med) ~ Age, data=subset(averages.gender, Gender=='FEMALE' & Age>29))\n",
    "alpha.female <- coef(res.female)[\"Age\"]\n",
    "cat(alpha.female, 1/alpha.female, \"\\n\")"
   ]
  },
  {
   "cell_type": "code",
   "execution_count": 70,
   "metadata": {},
   "outputs": [
    {
     "data": {
      "text/plain": [
       "\n",
       "Call:\n",
       "glm.nb(formula = as.integer(Sig1Med) ~ Age, data = subset(averages.gender, \n",
       "    Gender == \"MALE\" & Age > 29), init.theta = 3.419247332, link = log)\n",
       "\n",
       "Deviance Residuals: \n",
       "    Min       1Q   Median       3Q      Max  \n",
       "-2.8165  -0.7740  -0.2941   0.2416   2.3549  \n",
       "\n",
       "Coefficients:\n",
       "            Estimate Std. Error z value Pr(>|z|)    \n",
       "(Intercept)  2.37033    0.28757   8.243  < 2e-16 ***\n",
       "Age          0.02103    0.00462   4.552 5.33e-06 ***\n",
       "---\n",
       "Signif. codes:  0 '***' 0.001 '**' 0.01 '*' 0.05 '.' 0.1 ' ' 1\n",
       "\n",
       "(Dispersion parameter for Negative Binomial(3.4192) family taken to be 1)\n",
       "\n",
       "    Null deviance: 81.729  on 55  degrees of freedom\n",
       "Residual deviance: 58.892  on 54  degrees of freedom\n",
       "AIC: 495.27\n",
       "\n",
       "Number of Fisher Scoring iterations: 1\n",
       "\n",
       "\n",
       "              Theta:  3.419 \n",
       "          Std. Err.:  0.691 \n",
       "\n",
       " 2 x log-likelihood:  -489.272 "
      ]
     },
     "metadata": {},
     "output_type": "display_data"
    },
    {
     "data": {
      "text/plain": [
       "\n",
       "Call:\n",
       "glm.nb(formula = as.integer(Sig1Med) ~ Age, data = subset(averages.gender, \n",
       "    Gender == \"FEMALE\" & Age > 29), init.theta = 2.256994474, \n",
       "    link = log)\n",
       "\n",
       "Deviance Residuals: \n",
       "     Min        1Q    Median        3Q       Max  \n",
       "-2.77989  -0.89526  -0.00723   0.48738   1.87981  \n",
       "\n",
       "Coefficients:\n",
       "            Estimate Std. Error z value Pr(>|z|)    \n",
       "(Intercept) 3.235018   0.357300   9.054   <2e-16 ***\n",
       "Age         0.001600   0.005811   0.275    0.783    \n",
       "---\n",
       "Signif. codes:  0 '***' 0.001 '**' 0.01 '*' 0.05 '.' 0.1 ' ' 1\n",
       "\n",
       "(Dispersion parameter for Negative Binomial(2.257) family taken to be 1)\n",
       "\n",
       "    Null deviance: 58.807  on 53  degrees of freedom\n",
       "Residual deviance: 58.731  on 52  degrees of freedom\n",
       "AIC: 461.54\n",
       "\n",
       "Number of Fisher Scoring iterations: 1\n",
       "\n",
       "\n",
       "              Theta:  2.257 \n",
       "          Std. Err.:  0.464 \n",
       "\n",
       " 2 x log-likelihood:  -455.543 "
      ]
     },
     "metadata": {},
     "output_type": "display_data"
    }
   ],
   "source": [
    "summary(res.male)\n",
    "summary(res.female)"
   ]
  },
  {
   "cell_type": "code",
   "execution_count": 71,
   "metadata": {},
   "outputs": [],
   "source": [
    "expfun.male <- function(x) {\n",
    "    return(unname(exp(coef(res.male)[\"(Intercept)\"]))*exp(unname(coef(res.male)[\"Age\"])*x)/x)\n",
    "    }\n",
    "expfun.female <- function(x) {\n",
    "    return(exp(unname(coef(res.female)[\"(Intercept)\"]))*exp(unname(coef(res.female)[\"Age\"])*x)/x)\n",
    "    }"
   ]
  },
  {
   "cell_type": "code",
   "execution_count": 72,
   "metadata": {},
   "outputs": [],
   "source": [
    "line.male <- data.frame(x = seq(30,90, by=0.1), y=sapply(seq(30,90, by=0.1), expfun.male))\n",
    "line.female <- data.frame(x = seq(30,90, by=0.1), y=sapply(seq(30,90, by=0.1), expfun.female))"
   ]
  },
  {
   "cell_type": "code",
   "execution_count": 73,
   "metadata": {},
   "outputs": [
    {
     "data": {
      "image/png": "[encoded data removed]",
      "text/plain": [
       "plot without title"
      ]
     },
     "metadata": {},
     "output_type": "display_data"
    }
   ],
   "source": [
    "plot1 <- ggplot(subset(averages.gender, Age>29), aes(Age, Sig1Med, color=Gender)) + \n",
    "    geom_smooth(method = \"glm\", aes(Age, as.integer(Sig1Med)), formula = y ~ x, data=subset(averages.gender, Age>29), se=FALSE, method.args = (family=\"poisson\")) + \n",
    "    geom_point() + xlab(\"Age\") + ylab(\"Signature 1\")  + scale_color_aaas() +\n",
    "    theme_minimal() + theme(legend.position=\"top\") + coord_cartesian(ylim = c(0,200))\n",
    "#+ scale_color_manual(breaks = c(\"MALE\", \"FEMALE\"), values=c(\"#999999\", \"#E69F00\"))\n",
    "plot2 <- ggplot(subset(averages.gender, Age>29), aes(Age, Sig1Mean/Age, color=Gender)) + geom_point() +\n",
    "    xlab(\"Age\") + ylab(\"Signature 1 / Age\") + scale_color_aaas() + \n",
    "    theme_minimal() + theme(legend.position=\"none\") + coord_cartesian(ylim = c(0,3))+ \n",
    "    geom_line(data=line.male, aes(x, y), color='#EE0000FF', size=1) + \n",
    "    geom_line(data=line.female, aes(x, y), color='#3B4992FF', size=1)\n",
    "grid.arrange(plot1, plot2, ncol=2, nrow=1)\n",
    "p <- arrangeGrob(plot1, plot2, ncol=2, nrow=1)"
   ]
  },
  {
   "cell_type": "code",
   "execution_count": 74,
   "metadata": {},
   "outputs": [
    {
     "data": {
      "text/html": [
       "<ol class=list-inline>\n",
       "\t<li>'#3B4992FF'</li>\n",
       "\t<li>'#EE0000FF'</li>\n",
       "\t<li>'#008B45FF'</li>\n",
       "\t<li>'#631879FF'</li>\n",
       "\t<li>'#008280FF'</li>\n",
       "\t<li>'#BB0021FF'</li>\n",
       "\t<li>'#5F559BFF'</li>\n",
       "\t<li>'#A20056FF'</li>\n",
       "\t<li>'#808180FF'</li>\n",
       "</ol>\n"
      ],
      "text/latex": [
       "\\begin{enumerate*}\n",
       "\\item '\\#3B4992FF'\n",
       "\\item '\\#EE0000FF'\n",
       "\\item '\\#008B45FF'\n",
       "\\item '\\#631879FF'\n",
       "\\item '\\#008280FF'\n",
       "\\item '\\#BB0021FF'\n",
       "\\item '\\#5F559BFF'\n",
       "\\item '\\#A20056FF'\n",
       "\\item '\\#808180FF'\n",
       "\\end{enumerate*}\n"
      ],
      "text/markdown": [
       "1. '#3B4992FF'\n",
       "2. '#EE0000FF'\n",
       "3. '#008B45FF'\n",
       "4. '#631879FF'\n",
       "5. '#008280FF'\n",
       "6. '#BB0021FF'\n",
       "7. '#5F559BFF'\n",
       "8. '#A20056FF'\n",
       "9. '#808180FF'\n",
       "\n",
       "\n"
      ],
      "text/plain": [
       "[1] \"#3B4992FF\" \"#EE0000FF\" \"#008B45FF\" \"#631879FF\" \"#008280FF\" \"#BB0021FF\"\n",
       "[7] \"#5F559BFF\" \"#A20056FF\" \"#808180FF\""
      ]
     },
     "metadata": {},
     "output_type": "display_data"
    }
   ],
   "source": [
    "mypal = pal_aaas(\"default\", alpha=1)(9)\n",
    "mypal\n"
   ]
  },
  {
   "cell_type": "code",
   "execution_count": 75,
   "metadata": {},
   "outputs": [
    {
     "data": {
      "image/png": "[encoded data removed]",
      "text/plain": [
       "plot without title"
      ]
     },
     "metadata": {},
     "output_type": "display_data"
    }
   ],
   "source": [
    "plot1 <- ggplot(subset(averages.gender, Age>29), aes(Age, Sig1Med, color=Gender)) + \n",
    "    geom_smooth(method = \"rlm\", aes(Age, Sig1Med), formula = y ~ x, data=subset(averages.gender, Age>29), se=FALSE) + \n",
    "    geom_point() + xlab(\"Age\") + ylab(\"Signature 1\")  + scale_color_aaas() +\n",
    "    theme_minimal() + \n",
    "    theme(legend.position=\"top\") + coord_cartesian(ylim = c(0,200))\n",
    "plot2 <- ggplot(subset(averages.gender, Age>29), aes(Age, Sig1Mean/Age, color=Gender)) + geom_point() +\n",
    "    xlab(\"Age\") + ylab(\"Signature 1 / Age\")  + scale_color_aaas() +\n",
    "    theme_minimal() + \n",
    "    theme(legend.position=\"none\") + coord_cartesian(ylim = c(0,3))+ \n",
    "    geom_smooth(method = \"rlm\", aes(Age, Sig1Med/Age), formula = y ~ x, data=subset(averages.gender, Age>29), se=FALSE) \n",
    "grid.arrange(plot1, plot2, ncol=2, nrow=1)\n",
    "p <- arrangeGrob(plot1, plot2, ncol=2, nrow=1)"
   ]
  },
  {
   "cell_type": "code",
   "execution_count": 81,
   "metadata": {},
   "outputs": [
    {
     "data": {
      "text/plain": [
       "\n",
       "Call:\n",
       "glm(formula = as.integer(Sig1Med) ~ Age + offset(log(Sig7Med)), \n",
       "    family = \"poisson\", data = subset(averages.gender, Gender == \n",
       "        \"FEMALE\" & Sig7Med > 0))\n",
       "\n",
       "Deviance Residuals: \n",
       "     Min        1Q    Median        3Q       Max  \n",
       "-13.1718   -0.9116    1.4947    3.4267   13.6392  \n",
       "\n",
       "Coefficients:\n",
       "             Estimate Std. Error z value Pr(>|z|)    \n",
       "(Intercept) -3.168982   0.079181 -40.022  < 2e-16 ***\n",
       "Age          0.006968   0.001314   5.301 1.15e-07 ***\n",
       "---\n",
       "Signif. codes:  0 '***' 0.001 '**' 0.01 '*' 0.05 '.' 0.1 ' ' 1\n",
       "\n",
       "(Dispersion parameter for poisson family taken to be 1)\n",
       "\n",
       "    Null deviance: 1100.1  on 55  degrees of freedom\n",
       "Residual deviance: 1072.1  on 54  degrees of freedom\n",
       "AIC: 1354.9\n",
       "\n",
       "Number of Fisher Scoring iterations: 5\n"
      ]
     },
     "metadata": {},
     "output_type": "display_data"
    }
   ],
   "source": [
    "res.simple <- glm(as.integer(Sig1Med) ~ Age + offset(log(Sig7Med)), data=subset(averages.gender, Gender=='FEMALE' & Sig7Med>0), family=\"poisson\")\n",
    "summary(res.simple)"
   ]
  },
  {
   "cell_type": "code",
   "execution_count": 82,
   "metadata": {},
   "outputs": [
    {
     "name": "stdout",
     "output_type": "stream",
     "text": [
      "15.46368 \n",
      "0.00865547 \n",
      "7.65551 \n",
      "0.006312859 \n",
      "0.0003427251 \n",
      "0.0005971812 \n"
     ]
    }
   ],
   "source": [
    "res.exp.male <- glm(as.integer(Sig1Total) ~ Age + Sig7Total + Cohort + Site, data = subset(data, Gender==\"MALE\"), family=\"poisson\")\n",
    "res.exp.female <- glm(as.integer(Sig1Total) ~ Age + Sig7Total + Cohort + Site, data = subset(data, Gender==\"FEMALE\"), family=\"poisson\")\n",
    "N0.male <- exp(coef(res.exp.male)[\"(Intercept)\"])\n",
    "alpha.male <- coef(res.exp.male)[\"Age\"]\n",
    "N0.female <- exp(coef(res.exp.female)[\"(Intercept)\"])\n",
    "alpha.female <- coef(res.exp.female)[\"Age\"]\n",
    "Sig7.male <- coef(res.exp.male)[\"Sig7Total\"]\n",
    "Sig7.female <- coef(res.exp.female)[\"Sig7Total\"]\n",
    "cat(N0.male, \"\\n\")\n",
    "cat(alpha.male, \"\\n\")\n",
    "cat(N0.female, \"\\n\")\n",
    "cat(alpha.female, \"\\n\")\n",
    "cat(Sig7.male, \"\\n\")\n",
    "cat(Sig7.female, \"\\n\")"
   ]
  },
  {
   "cell_type": "code",
   "execution_count": null,
   "metadata": {},
   "outputs": [],
   "source": []
  }
 ],
 "metadata": {
  "anaconda-cloud": {},
  "kernelspec": {
   "display_name": "R",
   "language": "R",
   "name": "ir"
  },
  "language_info": {
   "codemirror_mode": "r",
   "file_extension": ".r",
   "mimetype": "text/x-r-source",
   "name": "R",
   "pygments_lexer": "r",
   "version": "3.5.1"
  }
 },
 "nbformat": 4,
 "nbformat_minor": 1
}
