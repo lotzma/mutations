{
 "cells": [
  {
   "cell_type": "markdown",
   "metadata": {},
   "source": [
    "<img style=\"float: left; width: 220px;\" src=\"images/shutterstock_318255209.jpg\">\n",
    "\n",
    "## <font color=\"grey\"> $\\quad$ Distinct proliferation rates - Figures </font>\n",
    "\n",
    "$\\newcommand{\\vct}[1]{\\mathbf{#1}}$\n",
    "$\\newcommand{\\mtx}[1]{\\mathbf{#1}}$\n",
    "$\\newcommand{\\e}{\\varepsilon}$\n",
    "$\\newcommand{\\norm}[1]{\\|#1\\|}$\n",
    "$\\newcommand{\\minimize}{\\mathrm{minimize}\\quad}$\n",
    "$\\newcommand{\\maximize}{\\mathrm{maximize}\\quad}$\n",
    "$\\newcommand{\\subjto}{\\quad\\text{subject to}\\quad}$\n",
    "$\\newcommand{\\R}{\\mathbb{R}}$\n",
    "$\\newcommand{\\trans}{T}$\n",
    "$\\newcommand{\\ip}[2]{\\langle {#1}, {#2} \\rangle}$\n",
    "$\\newcommand{\\zerovct}{\\vct{0}}$\n",
    "$\\newcommand{\\diff}[1]{\\mathrm{d}{#1}}$\n",
    "$\\newcommand{\\conv}{\\operatorname{conv}}$\n",
    "$\\newcommand{\\inter}{{\\operatorname{int}}}$"
   ]
  },
  {
   "cell_type": "markdown",
   "metadata": {},
   "source": [
    "### <font color=\"grey\">  Table of Contents</font>\n",
    "\n",
    "1. #### <a href='#chapter1'>Data preparation.</a>\n",
    "\n",
    "2. #### <a href='#chapter2'>The molecular subtypes of melanoma present distinct ratios of clock-like mutations per unit of time.</a>\n",
    "\n",
    "3. #### <a href='#chapter3'>Aging affects the intrinsic mutation rate of the molecular subtypes.</a>\n",
    "\n",
    "4. #### <a href='#chapter4'>Signature 1 and signature 7 mutations are tightly correlated and together contribute to melanoma across all molecular subtypes.</a>\n",
    "\n",
    "5. #### <a href='#chapter5'>The proportion and spectra of intrinsic and extrinsic mutations varies according to gender.</a>"
   ]
  },
  {
   "cell_type": "code",
   "execution_count": null,
   "metadata": {},
   "outputs": [],
   "source": [
    "# Relevant R libraries\n",
    "library(MASS)\n",
    "library(robustbase)\n",
    "library(robust)\n",
    "library(ggplot2)\n",
    "library(sfsmisc)\n",
    "library(repr)\n",
    "library(AER)\n",
    "library(vcd)\n",
    "library(zoo)\n",
    "options(repr.plot.width=8, repr.plot.height=3)\n",
    "library(gridExtra)\n",
    "library(nnls)\n",
    "library(stringr)\n",
    "library(boot)\n",
    "library(ggsci)\n",
    "library(scales)"
   ]
  },
  {
   "cell_type": "markdown",
   "metadata": {},
   "source": [
    "<a id='chapter1'></a>\n",
    "###  <a id='chapter1'> <font color=\"grey\">1. Data preparation </font></a>"
   ]
  },
  {
   "cell_type": "code",
   "execution_count": null,
   "metadata": {},
   "outputs": [],
   "source": [
    "load('data/tcga_4class.Rdata')\n",
    "data <- sigdata.tcga\n",
    "cat(\"There are\", dim(data)[1], \"data samples\\n\")"
   ]
  },
  {
   "cell_type": "code",
   "execution_count": null,
   "metadata": {},
   "outputs": [],
   "source": [
    "head(data)"
   ]
  },
  {
   "cell_type": "markdown",
   "metadata": {},
   "source": [
    "### <font color=\"grey\">  1.1 Data summary</font>\n",
    "\n",
    "#### We first summarize how many samples are in each category."
   ]
  },
  {
   "cell_type": "code",
   "execution_count": null,
   "metadata": {},
   "outputs": [],
   "source": [
    "cat(\"TCGA data: \\n\")\n",
    "cat(\"BRAF:\", nrow(subset(data, Cohort==\"BRAF\")), \"\\n\")\n",
    "cat(\"NRAS:\", nrow(subset(data, Cohort==\"NRAS\")), \"\\n\")\n",
    "cat(\"NF1:\", nrow(subset(data, Cohort==\"NF1\")), \"\\n\")\n",
    "cat(\"Triple wild:\", nrow(subset(data, Cohort==\"W3\")), \"\\n\")\n",
    "cat(\"Male BRAF:\", nrow(subset(data, Cohort==\"BRAF\" & Gender=='MALE')), \"\\n\")\n",
    "cat(\"Male NRAS:\", nrow(subset(data, Cohort==\"NRAS\" & Gender=='MALE')), \"\\n\")\n",
    "cat(\"Male NF1:\", nrow(subset(data, Cohort==\"NF1\" & Gender=='MALE')), \"\\n\")\n",
    "cat(\"Male Triple wild:\", nrow(subset(data, Cohort==\"W3\" & Gender=='MALE')), \"\\n\")\n",
    "cat(\"Female BRAF:\", nrow(subset(data, Cohort==\"BRAF\" & Gender=='FEMALE')), \"\\n\")\n",
    "cat(\"Female NRAS:\", nrow(subset(data, Cohort==\"NRAS\" & Gender=='FEMALE')), \"\\n\")\n",
    "cat(\"Female NF1:\", nrow(subset(data, Cohort==\"NF1\" & Gender=='FEMALE')), \"\\n\")\n",
    "cat(\"Female Triple wild:\", nrow(subset(data, Cohort==\"W3\" & Gender=='FEMALE')), \"\\n\")\n",
    "cat(\"MC1R information available for\", nrow(subset(data, !is.na(MC1R))), \"samples\")"
   ]
  },
  {
   "cell_type": "markdown",
   "metadata": {},
   "source": [
    "The **averages** datasets below contain mean and median information on the number of mutations by each age group. This is because sometimes we want to analyse the median mutation load for each age against age."
   ]
  },
  {
   "cell_type": "code",
   "execution_count": null,
   "metadata": {},
   "outputs": [],
   "source": [
    "averages <- read.csv('data/averages.csv', header=TRUE)\n",
    "averages.brafnras <- read.csv('data/averages_brafnras.csv', header=TRUE)\n",
    "averages.braf <- read.csv('data/averages_braf.csv', header=TRUE)\n",
    "averages.nras <- read.csv('data/averages_nras.csv', header=TRUE)\n",
    "averages.nf1 <- read.csv('data/averages_nf1.csv', header=TRUE)\n",
    "averages.w3 <- read.csv('data/averages_w3.csv', header=TRUE)\n",
    "averages.all <- read.csv('data/averages_all.csv', header=TRUE)\n",
    "averages.male <- read.csv('data/averages_male.csv', header=TRUE)\n",
    "averages.female <- read.csv('data/averages_female.csv', header=TRUE)\n",
    "averages.gender <- read.csv('data/averages_gender.csv', header=TRUE)"
   ]
  },
  {
   "cell_type": "markdown",
   "metadata": {},
   "source": [
    "#### Some overall statistics of the data\n",
    "The conclusion from the below is that, on average, BRAF patients are younger than NRAS, which are much younger than NF1."
   ]
  },
  {
   "cell_type": "code",
   "execution_count": null,
   "metadata": {},
   "outputs": [],
   "source": [
    "w3 <- subset(data, Cohort==\"W3\")$Age\n",
    "nras <- subset(data, Cohort==\"NRAS\")$Age\n",
    "braf <- subset(data, Cohort==\"BRAF\")$Age\n",
    "nf1 <- subset(data, Cohort==\"NF1\")$Age\n",
    "cat(\"Mean age for BRAF:\", mean(braf), \"\\n\")\n",
    "cat(\"Mean age for NRAS:\", mean(nras), \"\\n\")\n",
    "cat(\"Mean age for NF1:\", mean(nf1), \"\\n\")\n",
    "cat(\"Mean age for W3:\", mean(w3), \"\\n\")\n",
    "cat(\"Mean age overall:\", mean(data$Age), \"\\n\")"
   ]
  },
  {
   "cell_type": "markdown",
   "metadata": {},
   "source": [
    "Compute the average number of mutations (Signature 1 and total) for the whole dataset and for the subroups"
   ]
  },
  {
   "cell_type": "code",
   "execution_count": null,
   "metadata": {},
   "outputs": [],
   "source": [
    "w3 <- subset(data, Cohort==\"W3\")\n",
    "nras <- subset(data, Cohort==\"NRAS\")\n",
    "braf <- subset(data, Cohort==\"BRAF\")\n",
    "nf1 <- subset(data, Cohort==\"NF1\")\n",
    "cat(\"Sig1 for BRAF:\", mean(braf$Sig7Total), \"\\n\")\n",
    "cat(\"Sig1 for NRAS:\", mean(nras$Sig7Total), \"\\n\")\n",
    "cat(\"Sig1 for NF1:\", mean(nf1$Sig7Total), \"\\n\")\n",
    "cat(\"Sig1 for W3:\", mean(w3$Sig7Total), \"\\n\")\n",
    "cat(\"Sig1 overall:\", mean(data$Sig7Total), \"\\n\")\n",
    "cat(\"Total for BRAF:\", mean(braf$TotalSNV), \"\\n\")\n",
    "cat(\"Total for NRAS:\", mean(nras$TotalSNV), \"\\n\")\n",
    "cat(\"Total for NF1:\", mean(nf1$TotalSNV), \"\\n\")\n",
    "cat(\"Total for W3:\", mean(w3$TotalSNV), \"\\n\")\n",
    "cat(\"Total overall:\", mean(data$TotalSNV), \"\\n\")"
   ]
  },
  {
   "cell_type": "markdown",
   "metadata": {},
   "source": [
    "These are just some auxiliary data sets that are used (or not) later throughout the analysis"
   ]
  },
  {
   "cell_type": "code",
   "execution_count": null,
   "metadata": {},
   "outputs": [],
   "source": [
    "# Auxiliary columns that might come handy\n",
    "data$Sig1Ratio <- data$Sig1Total/data$Age\n",
    "data$Sig1pSig7 <- data$Sig1Rel+data$Sig7Rel\n",
    "data$range <- cut(data$Age, c(0, 30, 40, 50, 60, 70, 80, 90), include.lowest=FALSE)\n",
    "data$two.range <- cut(data$Age, c(0, 55, 90), include.lowest=FALSE)\n",
    "data$four.range <- cut(data$Age, c(0, 30, 50, 70, 90), include.lowest=FALSE)\n",
    "averages.all$two.range <- cut(averages.all$Age, c(0, 55, 90), include.lowest=FALSE)\n",
    "mysig7range <- cut(data$Sig7Total, seq(0,4000,by=10), include.lowest=FALSE)\n",
    "a <- sapply(mysig7range, as.character)\n",
    "data$sig7range <- unname(sapply(gsub(\".*\\\\((.+)\\\\,.*\", \"\\\\1\", a), as.numeric))\n",
    "mysig5range <- cut(data$Sig5Total, seq(0,4000,by=10), include.lowest=FALSE)\n",
    "a <- sapply(mysig5range, as.character)\n",
    "data$sig5range <- unname(sapply(gsub(\".*\\\\((.+)\\\\,.*\", \"\\\\1\", a), as.numeric))"
   ]
  },
  {
   "cell_type": "markdown",
   "metadata": {},
   "source": [
    "#### MC1R Information\n",
    "Introduce new data frame (name: **mydata**) for samples with MC1R information."
   ]
  },
  {
   "cell_type": "code",
   "execution_count": null,
   "metadata": {},
   "outputs": [],
   "source": [
    "# Add additional columns to the data\n",
    "mydata <- subset(data, !is.na(MC1R))\n",
    "mydata$Rallele <- as.factor(str_count(mydata$MC1R, 'R')>0)\n",
    "levels(mydata$Rallele) <- c(\"0 R alleles\", \"1-2 R alleles\")"
   ]
  },
  {
   "cell_type": "code",
   "execution_count": null,
   "metadata": {},
   "outputs": [],
   "source": [
    "cat(\"TCGA data (1-2 MC1R alleles): \\n\")\n",
    "cat(\"BRAF:\", nrow(subset(mydata, Cohort==\"BRAF\" & Rallele == \"1-2 R alleles\")), \"\\n\")\n",
    "cat(\"NRAS:\", nrow(subset(mydata, Cohort==\"NRAS\" & Rallele == \"1-2 R alleles\")), \"\\n\")\n",
    "cat(\"NF1:\", nrow(subset(mydata, Cohort==\"NF1\" & Rallele == \"1-2 R alleles\")), \"\\n\")\n",
    "cat(\"Triple wild:\", nrow(subset(mydata, Cohort==\"W3\" & Rallele == \"1-2 R alleles\")), \"\\n\")"
   ]
  },
  {
   "cell_type": "code",
   "execution_count": null,
   "metadata": {},
   "outputs": [],
   "source": [
    "cat(\"TCGA data (0 MC1R alleles): \\n\")\n",
    "cat(\"BRAF:\", nrow(subset(mydata, Cohort==\"BRAF\" & Rallele == \"0 R alleles\")), \"\\n\")\n",
    "cat(\"NRAS:\", nrow(subset(mydata, Cohort==\"NRAS\" & Rallele == \"0 R alleles\")), \"\\n\")\n",
    "cat(\"NF1:\", nrow(subset(mydata, Cohort==\"NF1\" & Rallele == \"0 R alleles\")), \"\\n\")\n",
    "cat(\"Triple wild:\", nrow(subset(mydata, Cohort==\"W3\" & Rallele == \"0 R alleles\")), \"\\n\")"
   ]
  },
  {
   "cell_type": "code",
   "execution_count": null,
   "metadata": {},
   "outputs": [],
   "source": [
    "# For later use\n",
    "sigs <- c(\"Sig1Med\", \"Sig7Med\")\n",
    "sigst <- c(\"Sig1Total\", \"Sig7Total\")\n",
    "cohorts <- c(\"BRAF\", \"NRAS\", \"NF1\", \"W3\")\n",
    "alleles <- c(\"0 R alleles\", \"1-2 R alleles\")\n",
    "genders <- c(\"MALE\", \"FEMALE\")\n",
    "avgsets <- list(averages.braf, averages.nras, averages.nf1, averages.w3)\n",
    "cohortsets <- list(subset(data, Cohort=='BRAF'),subset(data, Cohort=='NRAS'),subset(data, Cohort=='NF1'),subset(data, Cohort=='W3'))\n",
    "sig7ranges <- sort(unique(data$sig7range)[!is.na(unique(data$sig7range))])"
   ]
  },
  {
   "cell_type": "markdown",
   "metadata": {},
   "source": [
    "###  <a id='chapter2'><font color=\"grey\">  2. The molecular subtypes of melanoma present distinct ratios of clock-like mutations per unit of time</font></a>"
   ]
  },
  {
   "cell_type": "markdown",
   "metadata": {},
   "source": [
    "Robust linear regression of Signature 1 against age, and subdivided by cohorts."
   ]
  },
  {
   "cell_type": "code",
   "execution_count": null,
   "metadata": {},
   "outputs": [],
   "source": [
    "plotA <- ggplot(averages, aes(Age, Sig1Med)) +  geom_smooth(method = \"rlm\", se=FALSE) + geom_point() +\n",
    "    xlab(\"Age\") + ylab(\"Signature 1\") + theme_minimal()# + theme(legend.position=\"none\")\n",
    "plotB <- ggplot(subset(averages.all, Cohort=='BRAF' | Cohort=='NRAS'), aes(Age, Sig1Med, color=Cohort)) +  geom_smooth(method = \"rlm\", se=FALSE) + geom_point() +\n",
    "    xlab(\"Age\") + ylab(\"\") +#scale_y_continuous(limits = c(0,2000)) +\n",
    "    theme_minimal() + theme(legend.position=\"top\")\n",
    "grid.arrange(plotA, plotB, ncol=2)\n",
    "p <- arrangeGrob(plotA, plotB, ncol=2)"
   ]
  },
  {
   "cell_type": "code",
   "execution_count": null,
   "metadata": {},
   "outputs": [],
   "source": [
    "plot1 <- ggplot(averages, aes(Age, Sig1Med)) +  geom_smooth(method = \"rlm\", se=FALSE) + geom_point() +\n",
    "    xlab(\"Age\") + ylab(\"Signature 1\") + theme_minimal()# + theme(legend.position=\"none\")\n",
    "plot2 <- ggplot(subset(averages.all, Cohort=='BRAF' | Cohort=='NRAS'), aes(Age, Sig1Med, color=Cohort)) +  geom_smooth(method = \"rlm\", se=FALSE) + geom_point() +\n",
    "    xlab(\"Age\") + ylab(\"\") +#scale_y_continuous(limits = c(0,2000)) +\n",
    "    theme_minimal() + theme(legend.position=\"top\")\n",
    "grid.arrange(plot1, plot2, ncol=2)\n",
    "p <- arrangeGrob(plot1, plot2, ncol=2)"
   ]
  },
  {
   "cell_type": "markdown",
   "metadata": {},
   "source": [
    "#### Robust linear regression coefficients with P-value"
   ]
  },
  {
   "cell_type": "code",
   "execution_count": null,
   "metadata": {},
   "outputs": [],
   "source": [
    "res <- rlm(as.formula(\"Sig1Med ~ Age\"), data=averages)\n",
    "p.slope <- f.robftest(res, var = \"Age\")$p.value\n",
    "p.intercept <- f.robftest(res, var = \"(Intercept)\")$p.value\n",
    "cat(\"(Signature 1)\", \" Slope on robust regression:\", unname(coef(res)['Age']), \"with P-value\", p.slope, \"\\n\")\n",
    "cat(\"(Signature 1)\", \" Intercept on robust regression:\", unname(coef(res)['(Intercept)']), \"with P-value\", p.intercept, \"\\n\\n\")\n",
    "for (i in seq(1:4)) {\n",
    "    res <- rlm(as.formula(\"Sig1Med ~ Age\"), data=avgsets[[i]])\n",
    "    p.slope <- f.robftest(res, var = \"Age\")$p.value\n",
    "    p.intercept <- f.robftest(res, var = \"(Intercept)\")$p.value\n",
    "    cat(\"(Signature 1\", cohorts[i],\")\", \" Slope on robust regression:\", unname(coef(res)['Age']), \"with P-value\", p.slope, \"\\n\")\n",
    "    cat(\"(Signature 1\", cohorts[i],\")\", \" Intercept on robust regression:\", unname(coef(res)['(Intercept)']), \"with P-value\", p.intercept, \"\\n\\n\")\n",
    "}"
   ]
  },
  {
   "cell_type": "markdown",
   "metadata": {},
   "source": [
    "#### Spearman rho"
   ]
  },
  {
   "cell_type": "code",
   "execution_count": null,
   "metadata": {},
   "outputs": [],
   "source": [
    "# Compute confidence intervals by bootstrapping\n",
    "spearman.rho.sig1med.age <- function(data, indices) {\n",
    "  d <- data[indices,] # allows boot to select sample \n",
    "  fit <- cor.test(d$Age, d$Sig1Med, method=\"spearman\", alternative=\"greater\", data=d, exact=FALSE)\n",
    "  return(fit$estimate)\n",
    "} "
   ]
  },
  {
   "cell_type": "code",
   "execution_count": null,
   "metadata": {},
   "outputs": [],
   "source": [
    "correlation <- cor.test(averages$Age, averages$Sig1Med, method=\"spearman\", alternative=\"greater\", exact=FALSE)\n",
    "cat(\"Spearman correlation with age on complete dataset:\", correlation$estimate, \"with P-value\", correlation$p.value, \"\\n\\n\")\n",
    "for (i in seq(1:4)) {\n",
    "    correlation <- cor.test(avgsets[[i]]$Age, avgsets[[i]]$Sig1Med, method=\"spearman\", alternative=\"greater\", exact=FALSE)\n",
    "    cat(\"Spearman rho correlation with age on\", cohorts[i], \"dataset:\", correlation$estimate, \"with P-value\", correlation$p.value, \"\\n\")\n",
    "    }"
   ]
  },
  {
   "cell_type": "markdown",
   "metadata": {},
   "source": [
    "#### Median Signature 1/age by cohorts"
   ]
  },
  {
   "cell_type": "code",
   "execution_count": null,
   "metadata": {},
   "outputs": [],
   "source": [
    "plotC <- ggplot(data, aes(Cohort, (Sig1Total)/Age, fill=Cohort)) +\n",
    "    geom_boxplot() + ylab(\"Signatures 1 mutations / year\") + theme_minimal() + guides(fill=FALSE) + coord_cartesian(ylim = c(0,3))\n",
    "plotF <- ggplot(data, aes(Cohort, (Sig7Total)/Age, fill=Cohort)) +\n",
    "    geom_boxplot() + ylab(\"Signatures 7 mutations / year\") + theme_minimal() + guides(fill=FALSE) + coord_cartesian(ylim = c(0,60))\n",
    "grid.arrange(plotC, plotF, ncol=2)"
   ]
  },
  {
   "cell_type": "code",
   "execution_count": null,
   "metadata": {},
   "outputs": [],
   "source": [
    "#ggsave(\"./figures/Figure1EF.pdf\", p, scale=1, width=8, height=4)"
   ]
  },
  {
   "cell_type": "code",
   "execution_count": null,
   "metadata": {},
   "outputs": [],
   "source": [
    "md.sig1sig7 <- function(data, indices) {\n",
    "    mydata <- data[indices,]\n",
    "    return(median((mydata$Sig1Total)/mydata$Age))\n",
    "}"
   ]
  },
  {
   "cell_type": "code",
   "execution_count": null,
   "metadata": {},
   "outputs": [],
   "source": [
    "for (i in seq(1:4)) {\n",
    "    res <- md.sig1sig7(subset(data, Cohort==cohorts[i]),)\n",
    "    cat(\"Median ratio for\", cohorts[i], \": \", res, \"\\n\\n\")\n",
    "}"
   ]
  },
  {
   "cell_type": "markdown",
   "metadata": {},
   "source": [
    "#### Mann-Whitney U test with Bonferroni correction\n",
    "Test whether the ratios Sig1/Age differ in median across the subtypes. Using Sig1+Sig7, otherwise not significant difference between BRAF and NRAS."
   ]
  },
  {
   "cell_type": "code",
   "execution_count": null,
   "metadata": {},
   "outputs": [],
   "source": [
    "# Do a two-sided Wilcoxon test\n",
    "newdata <- data\n",
    "pwres <- pairwise.wilcox.test((newdata$Sig1Total)/newdata$Age, newdata$Cohort, exact=FALSE, paired=FALSE, alternative=\"two.sided\", p.adj=\"bonferroni\")\n",
    "pwres$p.value"
   ]
  },
  {
   "cell_type": "code",
   "execution_count": null,
   "metadata": {},
   "outputs": [],
   "source": [
    "# Only compare BRAF and NRAS\n",
    "md.sig1 <- function(data, indices) {\n",
    "    mydata <- data[indices,]\n",
    "    return(median(mydata$Sig1Total/mydata$Age))\n",
    "}"
   ]
  },
  {
   "cell_type": "code",
   "execution_count": null,
   "metadata": {},
   "outputs": [],
   "source": [
    "newdata.braf <- subset(data, Cohort=='BRAF')\n",
    "newdata.nras <- subset(data, Cohort=='NRAS')\n",
    "pwres <- wilcox.test(newdata.braf$Sig1Total/newdata.braf$Age, newdata.nras$Sig1Total/newdata.nras$Age, alternative=\"two.sided\", exact=FALSE, pairwise=FALSE)\n",
    "cat(\"P-value for BRAF vs NRAS:\", pwres$p.value, '\\n')"
   ]
  },
  {
   "cell_type": "markdown",
   "metadata": {},
   "source": [
    "#### Test the difference in the presence of 0 or 1-2 MC1R R alleles"
   ]
  },
  {
   "cell_type": "code",
   "execution_count": null,
   "metadata": {},
   "outputs": [],
   "source": [
    "p <- ggplot(transform(mydata,\n",
    "      Cohort=factor(Cohort,levels=c(\"BRAF\",\"NRAS\",\"NF1\",\"W3\"))), aes(Rallele, Sig1Total/Age, fill=Rallele)) +\n",
    "    geom_boxplot() + ylab(\"Signatures 1/ Age\") + theme_minimal() + #coord_cartesian(ylim = c(0,55)) + \n",
    "    guides(fill=FALSE) + facet_wrap(~ Cohort, ncol=4) + xlab(\"MC1R\")\n",
    "grid.arrange(p, ncol=1)"
   ]
  },
  {
   "cell_type": "code",
   "execution_count": null,
   "metadata": {},
   "outputs": [],
   "source": [
    "#ggsave(\"./figures/SupFigure1.pdf\", p, scale=1, width=8, height=4)"
   ]
  },
  {
   "cell_type": "markdown",
   "metadata": {},
   "source": [
    "#### Wilcoxon rank-sum test to see whether the ratios Sig1/Age differ depending on MC1R status"
   ]
  },
  {
   "cell_type": "code",
   "execution_count": null,
   "metadata": {},
   "outputs": [],
   "source": [
    "newdataR <- subset(mydata, Rallele=='1-2 R alleles')\n",
    "newdata0 <- subset(mydata, Rallele=='0 R alleles')\n",
    "medR <- median(newdataR$Sig1Total/newdataR$Age)\n",
    "med0 <- median(newdata0$Sig1Total/newdata0$Age)\n",
    "cat(\"Median ratio: \", medR/med0, \"\\n\\n\")\n",
    "pwres <- wilcox.test(newdataR$Sig1Total/newdataR$Age, newdata0$Sig1Total/newdata0$Age, paired=FALSE, exact=FALSE)\n",
    "cat(\"P-value:\", pwres$p.value, '\\n')"
   ]
  },
  {
   "cell_type": "markdown",
   "metadata": {},
   "source": [
    "#### Confidence interval via bootstrapping"
   ]
  },
  {
   "cell_type": "code",
   "execution_count": null,
   "metadata": {},
   "outputs": [],
   "source": [
    "md <- function(data, indices) {\n",
    "    tempdata <- data[indices,]\n",
    "    return(median(subset(tempdata, Rallele=='1-2 R alleles')$Sig1Ratio/median(subset(tempdata, Rallele=='0 R alleles')$Sig1Ratio)))\n",
    "}\n",
    "bootmed.all <- boot(data=mydata, statistic=md, R=10000)\n",
    "boot.ci(bootmed.all)"
   ]
  },
  {
   "cell_type": "code",
   "execution_count": null,
   "metadata": {},
   "outputs": [],
   "source": [
    "for (i in seq(1:4)) {\n",
    "    newdataR <- subset(mydata, Cohort==cohorts[i] & Rallele=='1-2 R alleles')\n",
    "    newdata0 <- subset(mydata, Cohort==cohorts[i] & Rallele=='0 R alleles')\n",
    "    medR <- median(newdataR$Sig1Total/newdataR$Age)\n",
    "    med0 <- median(newdata0$Sig1Total/newdata0$Age)\n",
    "    cat(\"Median ratio: \", medR/med0, \"\\n\")\n",
    "    pwres <- wilcox.test(newdataR$Sig1Total/newdataR$Age, newdata0$Sig1Total/newdata0$Age, paired=FALSE, exact=FALSE)\n",
    "    cat(\"P-value for\", cohorts[i], \":\", pwres$p.value, '\\n')\n",
    "}"
   ]
  },
  {
   "cell_type": "markdown",
   "metadata": {},
   "source": [
    "#### Repeat with Signature 7"
   ]
  },
  {
   "cell_type": "code",
   "execution_count": null,
   "metadata": {},
   "outputs": [],
   "source": [
    "plotD <- ggplot(averages, aes(Age, Sig7Med)) +  geom_smooth(method = \"rlm\", se=FALSE) + geom_point() +\n",
    "    xlab(\"Age\") + ylab(\"Signature 7\") + theme_minimal()# + theme(legend.position=\"none\")\n",
    "plotE <- ggplot(subset(averages.all, Cohort=='BRAF' | Cohort=='NRAS'), aes(Age, Sig7Med, color=Cohort)) +  geom_smooth(method = \"rlm\", se=FALSE) + geom_point() +\n",
    "    xlab(\"Age\") + ylab(\"\") +#scale_y_continuous(limits = c(0,2000)) +\n",
    "    theme_minimal() + theme(legend.position=\"top\")\n",
    "grid.arrange(plotD, plotE, ncol=2)\n",
    "#p <- arrangeGrob(plot1, plot2, ncol=2)"
   ]
  },
  {
   "cell_type": "code",
   "execution_count": null,
   "metadata": {},
   "outputs": [],
   "source": [
    "#ggsave(\"./figures/Figure2AB.pdf\", p, scale=1, width=8, height=3)"
   ]
  },
  {
   "cell_type": "code",
   "execution_count": null,
   "metadata": {},
   "outputs": [],
   "source": [
    "correlation <- cor.test(averages$Age, averages$Sig7Med, method=\"spearman\", alternative=\"greater\", exact=FALSE)\n",
    "cat(\"Spearman correlation with age on complete dataset:\", correlation$estimate, \"with P-value\", correlation$p.value, \"\\n\\n\")\n",
    "for (i in seq(1:4)) {\n",
    "    correlation <- cor.test(avgsets[[i]]$Age, avgsets[[i]]$Sig7Med, method=\"spearman\", alternative=\"greater\", exact=FALSE)\n",
    "    cat(\"Spearman rho correlation with age on\", cohorts[i], \"dataset:\", correlation$estimate, \"with P-value\", correlation$p.value, \"\\n\")\n",
    "    }"
   ]
  },
  {
   "cell_type": "code",
   "execution_count": null,
   "metadata": {},
   "outputs": [],
   "source": [
    "plot1 <- ggplot(data, aes(Cohort, (Sig7Total)/Age, fill=Cohort)) +\n",
    "    geom_boxplot() + ylab(\"Signatures 7 / year\") + theme_minimal() + guides(fill=FALSE) #+ coord_cartesian(ylim = c(0,3))\n",
    "grid.arrange(plot1, ncol=1)\n",
    "p <- arrangeGrob(plot1, ncol=1)"
   ]
  },
  {
   "cell_type": "code",
   "execution_count": null,
   "metadata": {},
   "outputs": [],
   "source": [
    "#ggsave(\"./figures/Figure2C.pdf\", p, scale=1, width=8, height=4)"
   ]
  },
  {
   "cell_type": "code",
   "execution_count": null,
   "metadata": {},
   "outputs": [],
   "source": [
    "# Do a two-sided Wilcoxon test\n",
    "newdata <- data\n",
    "pwres <- pairwise.wilcox.test((newdata$Sig7Total)/newdata$Age, newdata$Cohort, exact=FALSE, paired=FALSE, alternative=\"two.sided\", p.adj=\"bonferroni\")\n",
    "pwres$p.value"
   ]
  },
  {
   "cell_type": "markdown",
   "metadata": {},
   "source": [
    "###  <a id='chapter3'><font color=\"grey\">  3. Aging affects the intrinsic mutation rate of the molecular subtypes.</font></a>"
   ]
  },
  {
   "cell_type": "code",
   "execution_count": null,
   "metadata": {},
   "outputs": [],
   "source": [
    "plot2B <- ggplot(subset(data, range != \"(0,30]\" & range != \"(40,50]\" & range != \"(30,40]\"), aes(x=Sig1Total, fill=range)) +\n",
    "    geom_density(alpha=0.7) + theme_minimal() + xlab(\"Mutations\") + ylab(\"Frequency\")\n",
    "plot2A <- ggplot(averages.gender, aes(Age, Sig1Med/Age)) +  geom_smooth(method = \"rlm\", se=FALSE) + geom_point() +\n",
    "    xlab(\"Age\") + ylab(\"Signature 1 / Age\") + theme_minimal() + theme(legend.position=\"none\") + coord_cartesian(ylim = c(0,3))\n",
    "grid.arrange(plot2A, plot2B, ncol=2)\n",
    "#p <- arrangeGrob(plot1, plot2, ncol=2)"
   ]
  },
  {
   "cell_type": "code",
   "execution_count": null,
   "metadata": {},
   "outputs": [],
   "source": [
    "#ggsave(\"./figures/Figure4AB.pdf\", plot=p, scale=1, width=8, height=4)"
   ]
  },
  {
   "cell_type": "markdown",
   "metadata": {},
   "source": [
    "#### Spearman rho of Sig1/Age against age"
   ]
  },
  {
   "cell_type": "code",
   "execution_count": null,
   "metadata": {},
   "outputs": [],
   "source": [
    "sig1ageagecor <- cor.test(averages$Sig1Med/averages$Age, averages$Age, method=\"spearman\", alternative=\"two.sided\", exact=FALSE)\n",
    "cat(\"Spearman correlation between Sig1/Age and Age:\", sig1ageagecor$estimate, \"with P-value\", sig1ageagecor$p.value, \"\\n\")"
   ]
  },
  {
   "cell_type": "markdown",
   "metadata": {},
   "source": [
    "#### Test Spearman rho correlation across subtypes"
   ]
  },
  {
   "cell_type": "code",
   "execution_count": null,
   "metadata": {},
   "outputs": [],
   "source": [
    "sig1ageagecor.braf <- cor.test(averages.braf$Sig1Med/averages.braf$Age, averages.braf$Age, method=\"spearman\", alternative=\"two.sided\", exact=FALSE)\n",
    "cat(\"Spearman correlation between Sig1/Age and Age for BRAF:\", sig1ageagecor.braf$estimate, \"with P-value\", sig1ageagecor.braf$p.value, \"\\n\")\n",
    "sig1ageagecor.nras <- cor.test(averages.nras$Sig1Med/averages.nras$Age, averages.nras$Age, method=\"spearman\", alternative=\"two.sided\", exact=FALSE)\n",
    "cat(\"Spearman correlation between Sig1/Age and Age for NRAS:\", sig1ageagecor.nras$estimate, \"with P-value\", sig1ageagecor.nras$p.value, \"\\n\")\n",
    "sig1ageagecor.w3 <- cor.test(averages.w3$Sig1Med/averages.w3$Age, averages.w3$Age, method=\"spearman\", alternative=\"two.sided\", exact=FALSE)\n",
    "cat(\"Spearman correlation between Sig1/Age and Age for NRAS:\", sig1ageagecor.w3$estimate, \"with P-value\", sig1ageagecor.w3$p.value, \"\\n\")"
   ]
  },
  {
   "cell_type": "markdown",
   "metadata": {},
   "source": [
    "### <font color=\"grey\">  Intermezzo: the model.</font>"
   ]
  },
  {
   "cell_type": "markdown",
   "metadata": {},
   "source": [
    "In order to more accurately quantify the accumulation of mutations over time, we need to make some model assumptions. While these assumptions may represent oversimplifications, they lead to systematic biases that would hold across different cohorts, and still allow to compare properties of the different types of samples to each other.\n",
    "\n",
    "For the accumulation of mutations at time $t$, [Podolskiy et al](http://www.nature.com/articles/ncomms12157) postulate the following model, assumed to be valid for a certain age range. At each age $t$, the number of muations $N(t)$ is approximately distributed according to a Poisson distribution with rate $\\lambda(t)$,\n",
    "\n",
    "\\begin{equation*}\n",
    "  \\mtx{P}\\{N(t) = n\\} = \\frac{\\lambda(t)^n e^{-\\lambda(t)}}{n!}.\n",
    "\\end{equation*}\n",
    "\n",
    "While [Podolskiy et al](http://www.nature.com/articles/ncomms12157) consider the total number of mutations and argue statistically via the law of large numbers, it is reasonable to assume that the accumulation of units of signature 1 also follows a Poisson-like distribution, or a mixture of Poisson distributions with one dominant component. This component is assumed to describe the accumulation of mutations before clonal expansion, after which the dynamics change. \n",
    "\n",
    "Suppose that at age $t$ we have $N_1(t),\\dots,N_s(t)$ samples. We estimate the parameter $\\lambda(t) = \\lambda(t,X_1,\\dots,X_p) = \\mtx{E}[N(t) \\ | \\ X_1,\\dots,X_p]$ using Poisson regression,\n",
    "\n",
    "\\begin{equation*}\n",
    "  \\log \\mtx{E}[N(t) \\ | \\ X_1,\\dots,X_p ] = \\beta_0 + \\sum_{i=1}^p \\beta_i X_i,\n",
    "\\end{equation*}\n",
    "\n",
    "where the $\\beta_i$ are allowed to depend on $t$. In [Podolskiy et al](http://www.nature.com/articles/ncomms12157), the authors look at small time intervals and determine the Poisson peaks for each of these intervals. \n",
    "The practical problem with the approach described above is that we do not have enough data for reliably estimating Poisson average at each time. We can still try to use, for eath $t$ in a suitable range and $\\Delta t$ (for example, 5 years), to use the interval $(t-\\Delta t, t+\\Delta t]$. A different approach would be to estimate the parameters for all times simultaneously.\n",
    "\n",
    "Under simplifying assumptions, we can just include age (time) $t$ among the dependent variables and solve a standard Poisson model,\n",
    "\n",
    "\\begin{equation*}\n",
    "  \\log \\mtx{E}[N \\ | \\ t, X_1,\\dots,X_p ] = \\beta_0 + \\alpha t + \\sum_{i=1}^p \\beta_i X_i,\n",
    "\\end{equation*}\n",
    "\n",
    "We first try to incorporate as many covariates as possible in the model."
   ]
  },
  {
   "cell_type": "code",
   "execution_count": null,
   "metadata": {},
   "outputs": [],
   "source": [
    "plot2C <- ggplot(averages, aes(Age, Sig1Mean)) +  geom_point() +\n",
    "    geom_smooth(method = \"glm\", aes(Age, as.integer(Sig1Mean)), formula = y ~ x, data=averages, se=FALSE, method.args = (family=\"poisson\")) +\n",
    "    xlab(\"Age\") + ylab(\"Signature 1\") + theme_minimal() + coord_cartesian(ylim = c(0,200))# + theme(legend.position=\"none\")\n",
    "plot2D <- ggplot(averages.all, aes(Age, Sig1Mean, color=Cohort)) +  \n",
    "    geom_smooth(method = \"glm\", aes(Age, as.integer(Sig1Mean)), formula = y ~ x, data=averages.all, se=FALSE, method.args = (family=\"poisson\")) + \n",
    "    geom_point() + xlab(\"Age\") + ylab(\"\") + theme_minimal() + theme(legend.position=\"top\") + coord_cartesian(ylim = c(0,200))\n",
    "#p <- arrangeGrob(plot2C, plot2D, ncol=2)\n",
    "grid.arrange(plot2C, plot2D, ncol=2)"
   ]
  },
  {
   "cell_type": "code",
   "execution_count": null,
   "metadata": {},
   "outputs": [],
   "source": [
    "#ggsave(\"./figures/Figure4CD.pdf\", plot=p, scale=1, width=8, height=3)"
   ]
  },
  {
   "cell_type": "markdown",
   "metadata": {},
   "source": [
    "In the model above, we use the formula $N(t)=N_0e^{\\alpha t}$ to model the accumulation of Signature 1 mutations. We estimate the parameters $\\alpha$ and $N_0$ of this model using negative binomial regression. A standard algebraic computation shows that the we should expect a decrease in the ratio of mutations $N/t$ for ages $t<1/\\alpha$ and an increase for ages $t>1/\\alpha$. We compute the critical age threshold below."
   ]
  },
  {
   "cell_type": "code",
   "execution_count": null,
   "metadata": {},
   "outputs": [],
   "source": [
    "res <- glm.nb(as.integer(Sig1Med) ~ Age, data=averages)\n",
    "alpha <- coef(res)[\"Age\"]\n",
    "cat(\"alpha: \", alpha, \"Inverse of alpha: \", 1/alpha, \"\\n\\n\")\n",
    "res.braf <- glm.nb(as.integer(Sig1Med) ~ Age, data=averages.braf)\n",
    "alpha.braf <- coef(res.braf)[\"Age\"]\n",
    "cat(\"alpha for BRAF: \", alpha.braf, \"Inverse of alpha: \", 1/alpha.braf, \"\\n\")\n",
    "res.nras <- glm.nb(as.integer(Sig1Med) ~ Age, data=averages.nras)\n",
    "alpha.nras <- coef(res.nras)[\"Age\"]\n",
    "cat(\"alpha for NRAS: \", alpha.nras, \"Inverse of alpha: \", 1/alpha.nras, \"\\n\")\n",
    "res.w3 <- glm.nb(as.integer(Sig1Med) ~ Age, data=averages.w3)\n",
    "alpha.w3 <- coef(res.w3)[\"Age\"]\n",
    "cat(\"alpha for W3: \", alpha.w3, \"Inverse of alpha: \", 1/alpha.w3)"
   ]
  },
  {
   "cell_type": "markdown",
   "metadata": {},
   "source": [
    "Get confidence intervals and P values"
   ]
  },
  {
   "cell_type": "code",
   "execution_count": null,
   "metadata": {},
   "outputs": [],
   "source": [
    "expalpha <- function(data, indices) {\n",
    "  d <- data[indices,] # allows boot to select sample \n",
    "  res <- glm.nb(as.integer(d$Sig1Total) ~ d$Age, data = d)\n",
    "  return(1/unname(exp(coef(res)[\"d$Age\"])))\n",
    "} \n",
    "results <- boot(data=data, statistic=alpha, R=1000)\n",
    "boot.ci(results, type=\"basic\")\n",
    "results.braf <- boot(data=subset(data, Cohort=='BRAF'), statistic=alpha, R=1000)\n",
    "boot.ci(results.braf, type=\"basic\")\n",
    "results.nras <- boot(data=subset(data, Cohort=='NRAS'), statistic=alpha, R=1000)\n",
    "boot.ci(results.nras, type=\"basic\")\n",
    "results.w3 <- boot(data=subset(data, Cohort=='W3'), statistic=alpha, R=1000)\n",
    "boot.ci(results.w3, type=\"basic\")"
   ]
  },
  {
   "cell_type": "markdown",
   "metadata": {},
   "source": [
    "We next fit the curves $N_0e^{\\alpha t}$ with the estimated parameters to the data."
   ]
  },
  {
   "cell_type": "code",
   "execution_count": null,
   "metadata": {},
   "outputs": [],
   "source": [
    "expfun.braf <- function(x) {\n",
    "    return(unname(exp(coef(res.braf)[\"(Intercept)\"]))*exp(unname(coef(res.braf)[\"Age\"])*x)/x)\n",
    "    }\n",
    "expfun.nras <- function(x) {\n",
    "    return(exp(unname(coef(res.nras)[\"(Intercept)\"]))*exp(unname(coef(res.nras)[\"Age\"])*x)/x)\n",
    "    }\n",
    "expfun.w3 <- function(x) {\n",
    "    return(exp(unname(coef(res.w3)[\"(Intercept)\"]))*exp(unname(coef(res.w3)[\"Age\"])*x)/x)\n",
    "    }"
   ]
  },
  {
   "cell_type": "code",
   "execution_count": null,
   "metadata": {},
   "outputs": [],
   "source": [
    "line.braf <- data.frame(x = seq(20,90, by=0.1), y=sapply(seq(20,90, by=0.1), expfun.braf))\n",
    "line.nras <- data.frame(x = seq(30,90, by=0.1), y=sapply(seq(30,90, by=0.1), expfun.nras))\n",
    "line.w3 <- data.frame(x = seq(30,90, by=0.1), y=sapply(seq(30,90, by=0.1), expfun.w3))"
   ]
  },
  {
   "cell_type": "code",
   "execution_count": null,
   "metadata": {},
   "outputs": [],
   "source": [
    "plot2E1 <- ggplot(averages.braf, aes(Age, Sig1Med/Age)) + geom_point() +\n",
    "    xlab(\"Age\") + ylab(\"Signature 1 / Age\") + theme_minimal() + theme(legend.position=\"none\") + ggtitle('BRAF') + coord_cartesian(ylim = c(0,3))+ geom_line(data=line.braf, aes(x, y), color=\"blue\", size=1)\n",
    "plot2E2 <- ggplot(averages.nras, aes(Age, Sig1Mean/Age)) + geom_point() +\n",
    "    xlab(\"Age\") + ylab(\"\") + theme_minimal() + theme(legend.position=\"none\") + ggtitle('NRAS') + coord_cartesian(ylim = c(0,3))+ geom_line(data=line.nras, aes(x, y), color=\"blue\", size=1)\n",
    "plot2E3 <- ggplot(averages.w3, aes(Age, Sig1Mean/Age)) + geom_point() +\n",
    "    xlab(\"Age\") + ylab(\"\") + theme_minimal() + theme(legend.position=\"none\") + ggtitle('W3') + coord_cartesian(ylim = c(0,3))+ geom_line(data=line.w3, aes(x, y), color=\"blue\", size=1)\n",
    "grid.arrange(plot2E1, plot2E2, plot2E3, ncol=3, nrow=1)\n",
    "plot2E <- arrangeGrob(plot1, plot2, plot3, ncol=3, nrow=1)"
   ]
  },
  {
   "cell_type": "code",
   "execution_count": null,
   "metadata": {},
   "outputs": [],
   "source": [
    "#ggsave(\"./figures/Figure2E.pdf\", plot=p, scale=1, width=8, height=3)"
   ]
  },
  {
   "cell_type": "markdown",
   "metadata": {},
   "source": [
    "**Todo** P-values and confidence intervals"
   ]
  },
  {
   "cell_type": "markdown",
   "metadata": {},
   "source": [
    "###  <a id='chapter4'><font color=\"grey\">  4. Signature 1 and signature 7 mutations are tightly correlated and together contribute to melanoma across all molecular subtypes.  </font></a>"
   ]
  },
  {
   "cell_type": "code",
   "execution_count": null,
   "metadata": {},
   "outputs": [],
   "source": [
    "# Compute averages of relative contribution of sig 1 and sig 7\n",
    "nosig.braf <- 1-mean(subset(data, Cohort=='BRAF')$Sig1pSig7)\n",
    "nosig.nras <- 1-mean(subset(data, Cohort=='NRAS')$Sig1pSig7)\n",
    "nosig.nf1 <- 1-mean(subset(data, Cohort=='NF1')$Sig1pSig7)\n",
    "nosig.w3 <- 1-mean(subset(data, Cohort=='W3')$Sig1pSig7)\n",
    "sig7.braf <- mean(subset(data, Cohort=='BRAF')$Sig7Rel)\n",
    "sig7.nras <- mean(subset(data, Cohort=='NRAS')$Sig7Rel)\n",
    "sig7.nf1 <- mean(subset(data, Cohort=='NF1')$Sig7Rel)\n",
    "sig7.w3 <- mean(subset(data, Cohort=='W3')$Sig7Rel)\n",
    "sig1.braf <- mean(subset(data, Cohort=='BRAF')$Sig1Rel)\n",
    "sig1.nras <- mean(subset(data, Cohort=='NRAS')$Sig1Rel)\n",
    "sig1.nf1 <- mean(subset(data, Cohort=='NF1')$Sig1Rel)\n",
    "sig1.w3 <- mean(subset(data, Cohort=='W3')$Sig1Rel) \n",
    "sig5.braf <- mean(subset(data, Cohort=='BRAF')$Sig5Rel)\n",
    "sig5.nras <- mean(subset(data, Cohort=='NRAS')$Sig5Rel)\n",
    "sig5.nf1 <- mean(subset(data, Cohort=='NF1')$Sig5Rel)\n",
    "sig5.w3 <- mean(subset(data, Cohort=='W3')$Sig5Rel) "
   ]
  },
  {
   "cell_type": "code",
   "execution_count": null,
   "metadata": {},
   "outputs": [],
   "source": [
    "proportions <- c(sig1.braf, sig1.nras, sig1.nf1, sig1.w3, \n",
    "                 sig7.braf, sig7.nras, sig7.nf1, sig7.w3, \n",
    "                 sig5.braf, sig5.nras, sig5.nf1, sig5.w3,\n",
    "                 nosig.braf, nosig.nras, nosig.nf1, nosig.w3)\n",
    "labels <- c(rep(c('BRAF','NRAS','NF1','W3'),4))\n",
    "types <- c(rep(\"Sig1\",4), rep(\"Sig7\",4), rep(\"Sig5\",4), rep(\"Nosig\",4))\n",
    "newdata <- data.frame(labels, proportions, types)\n",
    "plot3A <- ggplot(data=newdata[order(newdata$types),], aes(labels, proportions, fill=types)) + geom_bar(stat = \"identity\") + \n",
    "    xlab(\"Subtypes\") + ylab(\"Mean proportion of Signatures\") + theme_minimal() + \n",
    "    scale_fill_discrete(name=\"Mutation signature\", breaks=c(\"Sig1\",\"Sig7\",\"Sig5\",\"Nosig\"), labels=c(\"Signature 1\", \"Signature 7\", \"Signature 5\", \"Other\"))\n",
    "grid.arrange(plot3A)"
   ]
  },
  {
   "cell_type": "code",
   "execution_count": null,
   "metadata": {},
   "outputs": [],
   "source": [
    "#ggsave(\"./figures/Figure3A.pdf\", plot=p, scale=1, width=8, height=3)"
   ]
  },
  {
   "cell_type": "markdown",
   "metadata": {},
   "source": [
    "Plot Signature 1 against Signature 7"
   ]
  },
  {
   "cell_type": "code",
   "execution_count": null,
   "metadata": {},
   "outputs": [],
   "source": [
    "# Compute median sig1 for each sig7\n",
    "averages.sig7 <- data.frame(Sig7Total=sig7ranges)\n",
    "averages.sig7$Sig1Med <- NA\n",
    "for (s in sig7ranges) {\n",
    "  i <- match(s,averages.sig7$Sig7Total)\n",
    "  averages.sig7[i,c(\"Sig1Med\")] <- median(data[which(data$sig7range==s),\"Sig1Total\"])\n",
    "}\n",
    "# Compute median sig1 for each sig7 subdivided by cohorts\n",
    "averages.sig7.cohort <- data.frame(Sig7Total=integer(), Sig1Med=double(), Cohort=character())\n",
    "for (j in seq(4)) {\n",
    "    sig7 <- sort(unique(subset(data,Cohort==cohorts[j])$sig7range)[!is.na(unique(subset(data,Cohort==cohorts[j])$sig7range))])\n",
    "    averages.temp <- data.frame(Sig7Total=sig7, Sig1Med=as.double(NA))\n",
    "    for (s in sig7) {\n",
    "        i <- match(s,averages.temp$Sig7Total)\n",
    "        averages.temp[i,c(\"Sig1Med\")] <- median(data[which(data$sig7range==s & data$Cohort==cohorts[j]),\"Sig1Total\"])\n",
    "        }\n",
    "    averages.temp$Cohort <- cohorts[j]\n",
    "    averages.sig7.cohort <- rbind(averages.sig7.cohort, averages.temp)\n",
    "    }"
   ]
  },
  {
   "cell_type": "code",
   "execution_count": null,
   "metadata": {},
   "outputs": [],
   "source": [
    "plot3B <- ggplot(subset(averages.sig7, Sig7Total<2500), aes(Sig7Total, Sig1Med)) +  geom_smooth(method = \"rlm\", se=FALSE) + geom_point() +\n",
    "    xlab(\"Signature 7\") + ylab(\"Signature 1\") + theme_minimal()# + theme(legend.position=\"none\")\n",
    "plot3C <- ggplot(subset(averages.sig7.cohort, (Cohort=='BRAF' | Cohort=='NRAS') & Sig7Total<2500), aes(Sig7Total, Sig1Med, color=Cohort)) +  geom_smooth(method = \"rlm\", se=FALSE) + geom_point() +\n",
    "    xlab(\"Signature 7\") + ylab(\"\") +# scale_y_continuous(limits = c(0,2000)) +\n",
    "    theme_minimal() + theme(legend.position=\"top\")\n",
    "grid.arrange(plot3B, plot3C, ncol=2)\n",
    "#p <- arrangeGrob(plot1, plot2, ncol=2)"
   ]
  },
  {
   "cell_type": "code",
   "execution_count": null,
   "metadata": {},
   "outputs": [],
   "source": [
    "#ggsave(\"./figures/Figure3BC.pdf\", plot=p, scale=1, width=8, height=4)"
   ]
  },
  {
   "cell_type": "code",
   "execution_count": null,
   "metadata": {},
   "outputs": [],
   "source": [
    "# Compute median sig1 for each sig5\n",
    "averages.sig5 <- data.frame(Sig5Total=sig5ranges)\n",
    "averages.sig5$Sig1Med <- NA\n",
    "for (s in sig5ranges) {\n",
    "  i <- match(s,averages.sig5$Sig5Total)\n",
    "  averages.sig5[i,c(\"Sig1Med\")] <- median(data[which(data$sig5range==s),\"Sig1Total\"])\n",
    "}\n",
    "# Compute median sig1 for each sig7 subdivided by cohorts\n",
    "averages.sig5.cohort <- data.frame(Sig5Total=integer(), Sig1Med=double(), Cohort=character())\n",
    "for (j in seq(4)) {\n",
    "    sig5 <- sort(unique(subset(data,Cohort==cohorts[j])$sig5range)[!is.na(unique(subset(data,Cohort==cohorts[j])$sig5range))])\n",
    "    averages.temp <- data.frame(Sig5Total=sig5, Sig1Med=as.double(NA))\n",
    "    for (s in sig5) {\n",
    "        i <- match(s,averages.temp$Sig5Total)\n",
    "        averages.temp[i,c(\"Sig1Med\")] <- median(data[which(data$sig5range==s & data$Cohort==cohorts[j]),\"Sig1Total\"])\n",
    "        }\n",
    "    averages.temp$Cohort <- cohorts[j]\n",
    "    averages.sig5.cohort <- rbind(averages.sig5.cohort, averages.temp)\n",
    "    }"
   ]
  },
  {
   "cell_type": "markdown",
   "metadata": {},
   "source": [
    "#### Robust regression"
   ]
  },
  {
   "cell_type": "code",
   "execution_count": null,
   "metadata": {},
   "outputs": [],
   "source": [
    "res<-rlm(Sig1Med ~ Sig7Total, data=averages.sig7)\n",
    "slope.total <- unname(coef(res)['Sig7Total'])\n",
    "p1.total <- f.robftest(res, var = \"Sig7Total\")$p.value\n",
    "cat(\"(Total) Slope on robust regression:\", slope.total, \"with P-value\", p1.total, \"\\n\")"
   ]
  },
  {
   "cell_type": "markdown",
   "metadata": {},
   "source": [
    "#### Spearman rho correlation"
   ]
  },
  {
   "cell_type": "code",
   "execution_count": null,
   "metadata": {},
   "outputs": [],
   "source": [
    "sig1sig7cor <- cor.test(averages.sig7$Sig7Total, averages.sig7$Sig1Med, method=\"spearman\", alternative=\"two.sided\", exact=FALSE)\n",
    "cat(\"Spearman correlation between Signature 1 and Signature 7:\", sig1sig7cor$estimate, \"with P-value\", sig1sig7cor$p.value, \"\\n\")"
   ]
  },
  {
   "cell_type": "markdown",
   "metadata": {},
   "source": [
    "#### Robust regression across subtypes"
   ]
  },
  {
   "cell_type": "code",
   "execution_count": null,
   "metadata": {},
   "outputs": [],
   "source": [
    "for (i in seq(1:4)) {\n",
    "    res<-rlm(Sig1Med ~ Sig7Total, data=subset(averages.sig7.cohort, Cohort==cohorts[i]))\n",
    "    slope.total <- unname(coef(res)['Sig7Total'])\n",
    "    p1.total <- f.robftest(res, var = \"Sig7Total\")$p.value\n",
    "    cat(\"(Total) Slope on robust regression for\", cohorts[i], \":\", slope.total, \"with P-value\", p1.total, \"\\n\")\n",
    "    }"
   ]
  },
  {
   "cell_type": "markdown",
   "metadata": {},
   "source": [
    "#### Confidence intervals"
   ]
  },
  {
   "cell_type": "code",
   "execution_count": null,
   "metadata": {},
   "outputs": [],
   "source": [
    "ratio <- function(data, indices) {\n",
    "  d <- data[indices,] # allows boot to select sample \n",
    "  res <- rlm(d$Sig1Med ~ d$Sig7Total, data = d)\n",
    "  return(unname(coef(res)[\"d$Sig7Total\"]))\n",
    "} \n",
    "results <- boot(data=subset(averages.sig7.cohort, Cohort=='BRAF' & Sig7Total>0), statistic=ratio, R=10000)\n",
    "boot.ci(results, type=\"bca\")"
   ]
  },
  {
   "cell_type": "markdown",
   "metadata": {},
   "source": [
    "#### Spearman rho across subtypes"
   ]
  },
  {
   "cell_type": "code",
   "execution_count": null,
   "metadata": {},
   "outputs": [],
   "source": [
    "# Determine slope and intersept with corresponding P values for robust linear regression on all the data\n",
    "cat(\"Spearman rho correlation between Signature 1 and Signature 7\\n\\n\")\n",
    "for (i in seq(1:4)) {\n",
    "    sig1sig7cor <- cor.test(subset(averages.sig7.cohort, Cohort==cohorts[i])$Sig7Total, subset(averages.sig7.cohort, Cohort==cohorts[i])$Sig1Med, method=\"spearman\", alternative=\"two.sided\", exact=FALSE)\n",
    "    cat(\"(\", cohorts[i], \")\", \"Spearman correlation between Signature 1 and Signature 7:\", sig1sig7cor$estimate, \"with P-value\", sig1sig7cor$p.value, \"\\n\")\n",
    "}"
   ]
  },
  {
   "cell_type": "markdown",
   "metadata": {},
   "source": [
    "#### Mann-Whitney U test for ratio Sig1/Sig7 across subtypes"
   ]
  },
  {
   "cell_type": "code",
   "execution_count": null,
   "metadata": {},
   "outputs": [],
   "source": [
    "# Do a two-sided Wilcoxon test\n",
    "newdata <- subset(averages.sig7.cohort, Sig7Total>0)\n",
    "pwres <- pairwise.wilcox.test(newdata$Sig1Med/newdata$Sig7Total, newdata$Cohort, exact=FALSE, p.adj=\"bonferroni\")\n",
    "pwres$p.value"
   ]
  },
  {
   "cell_type": "markdown",
   "metadata": {},
   "source": [
    "#### Wilcoxon rank-sum test for ratio Sig1/Sig7 for BRAF and NRAS"
   ]
  },
  {
   "cell_type": "code",
   "execution_count": null,
   "metadata": {},
   "outputs": [],
   "source": [
    "# Only compare BRAF and NRAS\n",
    "newdata.braf <- subset(data, Cohort=='BRAF' & Sig7Total>0)\n",
    "newdata.nras <- subset(data, Cohort=='NRAS' & Sig7Total>0)\n",
    "pwres <- wilcox.test(newdata.braf$Sig1Total/newdata.braf$Sig7Total, newdata.nras$Sig1Total/newdata.nras$Sig7Total, exact=FALSE, pairwise=FALSE)\n",
    "cat(\"P-value for BRAF vs NRAS:\", pwres$p.value, '\\n')"
   ]
  },
  {
   "cell_type": "markdown",
   "metadata": {},
   "source": [
    "#### Effect of MC1R"
   ]
  },
  {
   "cell_type": "code",
   "execution_count": null,
   "metadata": {},
   "outputs": [],
   "source": [
    "# Determine slope and intersept with corresponding P values for robust linear regression on all the data\n",
    "cat(\"Spearman rho correlation between Signature 1 and Signature 7\\n\\n\")\n",
    "for (i in seq(1:2)) {\n",
    "    sig1sig7cor <- cor.test(subset(mydata, Rallele==alleles[i])$Sig7Total, subset(mydata, Rallele==alleles[i])$Sig1Total, method=\"spearman\", alternative=\"two.sided\", exact=FALSE)\n",
    "    cat(\"(\", alleles[i], \")\", \"Spearman correlation between Signature 1 and Signature 7:\", sig1sig7cor$estimate, \"with P-value\", sig1sig7cor$p.value, \"\\n\")\n",
    "}"
   ]
  },
  {
   "cell_type": "markdown",
   "metadata": {},
   "source": [
    "#### Effect of Gender"
   ]
  },
  {
   "cell_type": "code",
   "execution_count": null,
   "metadata": {},
   "outputs": [],
   "source": [
    "# Compute averages in separate data frame (MALE)\n",
    "sig7male <- sort(unique(subset(data,Gender==\"MALE\")$sig7range)[!is.na(unique(subset(data,Gender==\"MALE\")$sig7range))])\n",
    "averages.male.sig7 <- data.frame(Sig7Total=sig7male)\n",
    "averages.male.sig7$Sig1Med <- NA\n",
    "for (s in sig7male) {\n",
    "  i <- match(s,averages.male.sig7$Sig7Total)\n",
    "  averages.male.sig7[i,c(\"Sig1Med\")] <- median(data[which(data$sig7range==s & data$Gender==\"MALE\"),\"Sig1Total\"])\n",
    "}\n",
    "# Compute averages in separate data frame (FEMALE)\n",
    "sig7female <- sort(unique(subset(data,Gender==\"FEMALE\")$sig7range)[!is.na(unique(subset(data,Gender==\"FEMALE\")$sig7range))])\n",
    "averages.female.sig7 <- data.frame(Sig7Total=sig7female)\n",
    "averages.female.sig7$Sig1Med <- NA\n",
    "for (s in sig7female) {\n",
    "  i <- match(s,averages.female.sig7$Sig7Total)\n",
    "  averages.female.sig7[i,c(\"Sig1Med\")] <- median(data[which(data$sig7range==s & data$Gender==\"FEMALE\"),\"Sig1Total\"])\n",
    "}\n",
    "averages.male.sig7$Gender <- \"MALE\"\n",
    "averages.female.sig7$Gender <- \"FEMALE\"\n",
    "averages.gender.sig7 <- rbind(averages.male.sig7, averages.female.sig7)"
   ]
  },
  {
   "cell_type": "code",
   "execution_count": null,
   "metadata": {},
   "outputs": [],
   "source": [
    "plot1 <- ggplot(subset(averages.sig7, Sig7Total<2500), aes(Sig7Total, Sig1Med)) +  geom_smooth(method = \"lm\", se=FALSE) + geom_point() +\n",
    "    xlab(\"Signature 7\") + ylab(\"Signature 1\") + theme_minimal()# + theme(legend.position=\"none\")\n",
    "plot2 <- ggplot(subset(averages.gender.sig7, Sig7Total<2500), aes(Sig7Total, Sig1Med, color=Gender)) +  geom_smooth(method = \"lm\", se=FALSE) + geom_point() +\n",
    "    xlab(\"Signature 7\") + ylab(\"Signature 1\") +# scale_y_continuous(limits = c(0,2000)) +\n",
    "    theme_minimal() + theme(legend.position=\"top\")\n",
    "grid.arrange(plot1, plot2, ncol=2)\n",
    "p <- arrangeGrob(plot1, plot2, ncol=2)"
   ]
  },
  {
   "cell_type": "code",
   "execution_count": null,
   "metadata": {},
   "outputs": [],
   "source": [
    "# Determine slope and intersept with corresponding P values for robust linear regression on all the data\n",
    "cat(\"Spearman rho correlation between Signature 1 and Signature 7\\n\\n\")\n",
    "for (i in seq(1:2)) {\n",
    "    sig1sig7cor <- cor.test(subset(data, Gender==genders[i])$Sig7Total, subset(data, Gender==genders[i])$Sig1Total, method=\"spearman\", alternative=\"two.sided\", exact=FALSE)\n",
    "    cat(\"(\", genders[i], \")\", \"Spearman correlation between Signature 1 and Signature 7:\", sig1sig7cor$estimate, \"with P-value\", sig1sig7cor$p.value, \"\\n\")\n",
    "}"
   ]
  },
  {
   "cell_type": "markdown",
   "metadata": {},
   "source": [
    "###  <a id='chapter5'><font color=\"grey\">  5. The proportion and spectra of intrinsic and extrinsic mutations varies according to gender.</font></a>"
   ]
  },
  {
   "cell_type": "markdown",
   "metadata": {},
   "source": [
    "There is not a significant difference between the ratio of Signature 1 mutations and gender overall, and it is hard to really detect any differences."
   ]
  },
  {
   "cell_type": "code",
   "execution_count": null,
   "metadata": {},
   "outputs": [],
   "source": [
    "# Compute averages in separate data frame (MALE)\n",
    "agemale <- sort(unique(subset(data,Gender==\"MALE\")$Age)[!is.na(unique(subset(data,Gender==\"MALE\")$Age))])\n",
    "averages.male.age <- data.frame(Age=agemale)\n",
    "averages.male.age$Sig1Med <- NA\n",
    "for (s in agemale) {\n",
    "  i <- match(s,averages.male.age$Age)\n",
    "  averages.male.age[i,c(\"Sig1Med\")] <- median(data[which(data$agemale==s & data$Gender==\"MALE\"),\"Sig1Total\"])\n",
    "  averages.male.age[i,c(\"Sig7Med\")] <- median(data[which(data$agemale==s & data$Gender==\"MALE\"),\"Sig7Total\"])\n",
    "}\n",
    "# Compute averages in separate data frame (FEMALE)\n",
    "agefemale <- sort(unique(subset(data,Gender==\"FEMALE\")$Age)[!is.na(unique(subset(data,Gender==\"FEMALE\")$Age))])\n",
    "averages.female.age <- data.frame(Age=agefemale)\n",
    "averages.female.age$Sig1Med <- NA\n",
    "for (s in agefemale) {\n",
    "  i <- match(s,averages.female.age$Age)\n",
    "  averages.female.age[i,c(\"Sig1Med\")] <- median(data[which(data$agefemale==s & data$Gender==\"FEMALE\"),\"Sig1Total\"])\n",
    "  averages.female.age[i,c(\"Sig7Med\")] <- median(data[which(data$agefemale==s & data$Gender==\"FEMALE\"),\"Sig7Total\"])\n",
    "}\n",
    "averages.male.age$Gender <- \"MALE\"\n",
    "averages.female.age$Gender <- \"FEMALE\"\n",
    "averages.gender.age <- rbind(averages.male.age, averages.female.age)"
   ]
  },
  {
   "cell_type": "code",
   "execution_count": null,
   "metadata": {},
   "outputs": [],
   "source": [
    "plot4A <- ggplot(data, aes(Gender, Sig1Total/Age, fill=Gender)) +\n",
    "    geom_boxplot() + ylab(\"Signatures 1/ Age\") + theme_minimal() + coord_cartesian(ylim = c(0,2)) + \n",
    "    scale_fill_aaas() +\n",
    "    guides(fill=FALSE) + xlab(\"\")\n",
    "plot4B <- ggplot(transform(subset(data, Cohort=='BRAF' | Cohort=='NRAS'),\n",
    "      Cohort=factor(Cohort,levels=c(\"BRAF\",\"NRAS\"))), aes(Gender, Sig1Total/Age, fill=Gender)) +\n",
    "    scale_fill_aaas() +\n",
    "    geom_boxplot() + ylab(\"Signatures 1/ Age\") + theme_minimal() + #coord_cartesian(ylim = c(0,55)) + \n",
    "    guides(fill=FALSE) + facet_wrap(~ Cohort, ncol=4) + xlab(\"\")\n",
    "grid.arrange(plot4A, plot4B, ncol=2)\n",
    "#p <- arrangeGrob(plot1, plot2, ncol=2)"
   ]
  },
  {
   "cell_type": "code",
   "execution_count": null,
   "metadata": {},
   "outputs": [],
   "source": [
    "#ggsave(\"./figures/Figure4AB.pdf\", plot=p, scale=1, width=8, height=4)"
   ]
  },
  {
   "cell_type": "markdown",
   "metadata": {},
   "source": [
    "#### Spearman rho correlation and ratio test"
   ]
  },
  {
   "cell_type": "code",
   "execution_count": null,
   "metadata": {},
   "outputs": [],
   "source": [
    "correlation <- cor.test(averages$Age, averages$Sig1Med, method=\"spearman\", alternative=\"greater\", exact=FALSE)\n",
    "cat(\"Spearman correlation with age on complete dataset:\", correlation$estimate, \"with P-value\", correlation$p.value, \"\\n\\n\")\n",
    "for (i in seq(1:2)) {\n",
    "    tempdata <- subset(averages.gender, Gender==genders[i])\n",
    "    correlation <- cor.test(tempdata$Age, tempdata$Sig1Med, method=\"spearman\", alternative=\"two.sided\", exact=FALSE)\n",
    "    cat(\"Spearman rho correlation with age on\", genders[i], \"dataset:\", correlation$estimate, \"with P-value\", correlation$p.value, \"\\n\")\n",
    "    }"
   ]
  },
  {
   "cell_type": "code",
   "execution_count": null,
   "metadata": {},
   "outputs": [],
   "source": [
    "# Wilcoxon rank sum test\n",
    "newdata.male <- subset(averages.gender, Gender=='MALE')\n",
    "newdata.female <- subset(averages.gender, Gender=='FEMALE')\n",
    "cat(median(newdata.male$Sig1Med/newdata.male$Age)/median(newdata.female$Sig1Med/newdata.female$Age),\"\\n\")\n",
    "pwres <- wilcox.test(newdata.male$Sig1Med/newdata.male$Age, newdata.female$Sig1Med/newdata.female$Age, exact=FALSE, pairwise=FALSE)\n",
    "cat(\"P-value for Male vs Female:\", pwres$p.value, '\\n')"
   ]
  },
  {
   "cell_type": "code",
   "execution_count": null,
   "metadata": {},
   "outputs": [],
   "source": [
    "# Wilcoxon rank sum test by cohorts\n",
    "for (i in seq(2)) {\n",
    "    newdata.male <- subset(data, Gender=='MALE' & Cohort==cohorts[i])\n",
    "    newdata.female <- subset(data, Gender=='FEMALE' & Cohort==cohorts[i])\n",
    "    pwres <- wilcox.test(newdata.male$Sig1Total/newdata.male$Age, newdata.female$Sig1Total/newdata.female$Age, alternative=\"two.sided\", exact=FALSE, pairwise=FALSE)\n",
    "    cat(\"P-value for Male vs Female in\", cohorts[i], \":\", pwres$p.value, \"\\n\")\n",
    "    }"
   ]
  },
  {
   "cell_type": "code",
   "execution_count": null,
   "metadata": {},
   "outputs": [],
   "source": [
    "q <- quantile(data$Sig7Total/data$Age,0.1)\n",
    "LowSig7data <- subset(data, Sig7Total/Age<q)\n",
    "nrow(LowSig7data)"
   ]
  },
  {
   "cell_type": "code",
   "execution_count": null,
   "metadata": {},
   "outputs": [],
   "source": [
    "nrow(subset(LowSig7data, Gender=='MALE'))"
   ]
  },
  {
   "cell_type": "code",
   "execution_count": null,
   "metadata": {},
   "outputs": [],
   "source": [
    "# Compute averages in separate data frame (MALE)\n",
    "agemale <- sort(unique(subset(LowSig7data,Gender==\"MALE\")$Age)[!is.na(unique(subset(LowSig7data,Gender==\"MALE\")$Age))])\n",
    "averages.male.age <- data.frame(Age=agemale)\n",
    "averages.male.age$Sig1Med <- NA\n",
    "for (s in agemale) {\n",
    "  i <- match(s,averages.male.age$Age)\n",
    "  averages.male.age[i,c(\"Sig1Med\")] <- median(LowSig7data[which(LowSig7data$agemale==s & LowSig7data$Gender==\"MALE\"),\"Sig1Total\"])\n",
    "  averages.male.age[i,c(\"Sig7Med\")] <- median(LowSig7data[which(LowSig7data$agemale==s & LowSig7data$Gender==\"MALE\"),\"Sig7Total\"])\n",
    "}\n",
    "# Compute averages in separate data frame (FEMALE)\n",
    "agefemale <- sort(unique(subset(LowSig7data,Gender==\"FEMALE\")$Age)[!is.na(unique(subset(LowSig7data,Gender==\"FEMALE\")$Age))])\n",
    "averages.female.age <- data.frame(Age=agefemale)\n",
    "averages.female.age$Sig1Med <- NA\n",
    "for (s in agefemale) {\n",
    "  i <- match(s,averages.female.age$Age)\n",
    "  averages.female.age[i,c(\"Sig1Med\")] <- median(LowSig7data[which(LowSig7data$agefemale==s & LowSig7data$Gender==\"FEMALE\"),\"Sig1Total\"])\n",
    "  averages.female.age[i,c(\"Sig7Med\")] <- median(LowSig7data[which(LowSig7data$agefemale==s & LowSig7data$Gender==\"FEMALE\"),\"Sig7Total\"])\n",
    "}\n",
    "averages.male.age$Gender <- \"MALE\"\n",
    "averages.female.age$Gender <- \"FEMALE\"\n",
    "averages.gender.age.lowsig7 <- rbind(averages.male.age, averages.female.age)"
   ]
  },
  {
   "cell_type": "markdown",
   "metadata": {},
   "source": [
    "Estimate the $\\alpha$ parameter for male and female."
   ]
  },
  {
   "cell_type": "code",
   "execution_count": null,
   "metadata": {},
   "outputs": [],
   "source": [
    "res.male <- glm.nb(as.integer(Sig1Med) ~ Age, data=subset(averages.gender, Gender=='MALE' & Age>29))\n",
    "alpha.male <- coef(res.male)[\"Age\"]\n",
    "cat(alpha.male, 1/alpha.male, \"\\n\")\n",
    "res.female <- glm.nb(as.integer(Sig1Med) ~ Age, data=subset(averages.gender, Gender=='FEMALE' & Age>29))\n",
    "alpha.female <- coef(res.female)[\"Age\"]\n",
    "cat(alpha.female, 1/alpha.female, \"\\n\")"
   ]
  },
  {
   "cell_type": "code",
   "execution_count": null,
   "metadata": {},
   "outputs": [],
   "source": [
    "summary(res.male)\n",
    "summary(res.female)"
   ]
  },
  {
   "cell_type": "code",
   "execution_count": null,
   "metadata": {},
   "outputs": [],
   "source": [
    "expfun.male <- function(x) {\n",
    "    return(unname(exp(coef(res.male)[\"(Intercept)\"]))*exp(unname(coef(res.male)[\"Age\"])*x)/x)\n",
    "    }\n",
    "expfun.female <- function(x) {\n",
    "    return(exp(unname(coef(res.female)[\"(Intercept)\"]))*exp(unname(coef(res.female)[\"Age\"])*x)/x)\n",
    "    }"
   ]
  },
  {
   "cell_type": "code",
   "execution_count": null,
   "metadata": {},
   "outputs": [],
   "source": [
    "line.male <- data.frame(x = seq(30,90, by=0.1), y=sapply(seq(30,90, by=0.1), expfun.male))\n",
    "line.female <- data.frame(x = seq(30,90, by=0.1), y=sapply(seq(30,90, by=0.1), expfun.female))"
   ]
  },
  {
   "cell_type": "code",
   "execution_count": null,
   "metadata": {},
   "outputs": [],
   "source": [
    "plot4C <- ggplot(subset(averages.gender, Age>29), aes(Age, Sig1Med, color=Gender)) + \n",
    "    geom_smooth(method = \"glm\", aes(Age, as.integer(Sig1Med)), formula = y ~ x, data=subset(averages.gender, Age>29), se=FALSE, method.args = (family=\"poisson\")) + \n",
    "    geom_point() + xlab(\"Age\") + ylab(\"Signature 1\")  + scale_color_aaas() +\n",
    "    theme_minimal() + theme(legend.position=\"top\") + coord_cartesian(ylim = c(0,200))\n",
    "#+ scale_color_manual(breaks = c(\"MALE\", \"FEMALE\"), values=c(\"#999999\", \"#E69F00\"))\n",
    "plot4D <- ggplot(subset(averages.gender, Age>29), aes(Age, Sig1Mean/Age, color=Gender)) + geom_point() +\n",
    "    xlab(\"Age\") + ylab(\"Signature 1 / Age\") + scale_color_aaas() + \n",
    "    theme_minimal() + theme(legend.position=\"none\") + coord_cartesian(ylim = c(0,3))+ \n",
    "    geom_line(data=line.male, aes(x, y), color='#EE0000FF', size=1) + \n",
    "    geom_line(data=line.female, aes(x, y), color='#3B4992FF', size=1)\n",
    "grid.arrange(plot4C, plot4D, ncol=2, nrow=1)\n",
    "#p <- arrangeGrob(plot1, plot2, ncol=2, nrow=1)"
   ]
  },
  {
   "cell_type": "code",
   "execution_count": null,
   "metadata": {},
   "outputs": [],
   "source": [
    "mypal = pal_aaas(\"default\", alpha=1)(9)\n",
    "mypal\n"
   ]
  },
  {
   "cell_type": "code",
   "execution_count": null,
   "metadata": {},
   "outputs": [],
   "source": [
    "#ggsave(\"./figures/Figure4CD-exp.pdf\", plot=p, scale=1, width=8, height=4)"
   ]
  },
  {
   "cell_type": "code",
   "execution_count": null,
   "metadata": {},
   "outputs": [],
   "source": [
    "plot1 <- ggplot(subset(averages.gender, Age>29), aes(Age, Sig1Med, color=Gender)) + \n",
    "    geom_smooth(method = \"rlm\", aes(Age, Sig1Med), formula = y ~ x, data=subset(averages.gender, Age>29), se=FALSE) + \n",
    "    geom_point() + xlab(\"Age\") + ylab(\"Signature 1\")  + scale_color_aaas() +\n",
    "    theme_minimal() + \n",
    "    theme(legend.position=\"top\") + coord_cartesian(ylim = c(0,200))\n",
    "plot2 <- ggplot(subset(averages.gender, Age>29), aes(Age, Sig1Mean/Age, color=Gender)) + geom_point() +\n",
    "    xlab(\"Age\") + ylab(\"Signature 1 / Age\")  + scale_color_aaas() +\n",
    "    theme_minimal() + \n",
    "    theme(legend.position=\"none\") + coord_cartesian(ylim = c(0,3))+ \n",
    "    geom_smooth(method = \"rlm\", aes(Age, Sig1Med/Age), formula = y ~ x, data=subset(averages.gender, Age>29), se=FALSE) \n",
    "grid.arrange(plot1, plot2, ncol=2, nrow=1)\n",
    "p <- arrangeGrob(plot1, plot2, ncol=2, nrow=1)"
   ]
  },
  {
   "cell_type": "code",
   "execution_count": null,
   "metadata": {},
   "outputs": [],
   "source": [
    "#ggsave(\"./figures/Figure4CD-lin.pdf\", plot=p, scale=1, width=8, height=4)"
   ]
  },
  {
   "cell_type": "markdown",
   "metadata": {},
   "source": [
    "#### Repeat the same thing in the presence of MC1R R alleles"
   ]
  },
  {
   "cell_type": "markdown",
   "metadata": {},
   "source": [
    "#### Incorporate covariates\n",
    "First, we use the model above with various covariates to determine which ones are significant. It turns out that all are."
   ]
  },
  {
   "cell_type": "code",
   "execution_count": null,
   "metadata": {},
   "outputs": [],
   "source": [
    "res.simple <- glm(as.integer(Sig1Med) ~ Age + offset(log(Sig7Med)), data=subset(averages.gender, Gender=='FEMALE' & Sig7Med>0), family=\"poisson\")\n",
    "summary(res.simple)"
   ]
  },
  {
   "cell_type": "code",
   "execution_count": null,
   "metadata": {},
   "outputs": [],
   "source": [
    "res.male <- glm.nb(as.integer(Sig1Total) ~ Age + Cohort + Gender, data=subset(data, Gender==\"MALE\"))\n",
    "res.female <- glm.nb(as.integer(Sig1Total) ~ Age + Cohort + Gender, data=subset(data, Gender==\"FEMALE\"))"
   ]
  },
  {
   "cell_type": "markdown",
   "metadata": {},
   "source": [
    "Study whether MC1R status is relevant. "
   ]
  },
  {
   "cell_type": "code",
   "execution_count": null,
   "metadata": {},
   "outputs": [],
   "source": [
    "res.simple <- glm(as.integer(Sig1Total) ~ Age + Gender + Cohort + Rallele, data=mydata, family=\"poisson\")\n",
    "factor.allele <- exp(coef(res.simple)[\"Rallele1-2 R alleles\"])\n",
    "cat(\"The precense of 1-2 MC1R alleles contributes to a multiplicative increase factor of\", factor.allele, \"across all subtypes.\")"
   ]
  },
  {
   "cell_type": "code",
   "execution_count": null,
   "metadata": {},
   "outputs": [],
   "source": [
    "res.simple <- glm(as.integer(Sig1Total) ~ Age + Gender + Cohort + Rallele + Sig7Total, data=mydata, family=\"poisson\")\n",
    "factor.allele <- exp(coef(res.simple)[\"Rallele1-2 MC1R alleles\"])\n",
    "cat(\"The precense of 1-2 MC1R alleles contributes to a multiplicative increase factor of\", factor.allele, \"across BRAF subtypes.\\n\")"
   ]
  },
  {
   "cell_type": "code",
   "execution_count": null,
   "metadata": {},
   "outputs": [],
   "source": [
    "res.exp.male <- glm(as.integer(Sig1Total) ~ Age + Sig7Total + Cohort + Site, data = subset(data, Gender==\"MALE\"), family=\"poisson\")\n",
    "res.exp.female <- glm(as.integer(Sig1Total) ~ Age + Sig7Total + Cohort + Site, data = subset(data, Gender==\"FEMALE\"), family=\"poisson\")\n",
    "N0.male <- exp(coef(res.exp.male)[\"(Intercept)\"])\n",
    "alpha.male <- coef(res.exp.male)[\"Age\"]\n",
    "N0.female <- exp(coef(res.exp.female)[\"(Intercept)\"])\n",
    "alpha.female <- coef(res.exp.female)[\"Age\"]\n",
    "Sig7.male <- coef(res.exp.male)[\"Sig7Total\"]\n",
    "Sig7.female <- coef(res.exp.female)[\"Sig7Total\"]\n",
    "cat(N0.male, \"\\n\")\n",
    "cat(alpha.male, \"\\n\")\n",
    "cat(N0.female, \"\\n\")\n",
    "cat(alpha.female, \"\\n\")\n",
    "cat(Sig7.male, \"\\n\")\n",
    "cat(Sig7.female, \"\\n\")"
   ]
  },
  {
   "cell_type": "code",
   "execution_count": null,
   "metadata": {},
   "outputs": [],
   "source": [
    "ggsave(\"./figures/Figure1A.pdf\", plot=plotA, scale=1, width=4, height=4)\n",
    "ggsave(\"./figures/Figure1B.pdf\", plot=plotB, scale=1, width=4, height=4)\n",
    "ggsave(\"./figures/Figure1C.pdf\", plot=plotC, scale=1, width=4, height=4)\n",
    "ggsave(\"./figures/Figure1D.pdf\", plot=plotD, scale=1, width=4, height=4)\n",
    "ggsave(\"./figures/Figure1E.pdf\", plot=plotE, scale=1, width=4, height=4)\n",
    "ggsave(\"./figures/Figure1F.pdf\", plot=plotF, scale=1, width=4, height=4)\n",
    "ggsave(\"./figures/Figure2A.pdf\", plot=plot2A, scale=1, width=4, height=4)\n",
    "ggsave(\"./figures/Figure2B.pdf\", plot=plot2B, scale=1, width=4, height=4)\n",
    "ggsave(\"./figures/Figure2C.pdf\", plot=plot2C, scale=1, width=4, height=4)\n",
    "ggsave(\"./figures/Figure2D.pdf\", plot=plot2D, scale=1, width=4, height=4)\n",
    "ggsave(\"./figures/Figure2E.pdf\", plot=plot2E, scale=1, width=8, height=4)\n",
    "ggsave(\"./figures/Figure3A.pdf\", plot=plot3A, scale=1, width=4, height=4)\n",
    "ggsave(\"./figures/Figure3B.pdf\", plot=plot3B, scale=1, width=4, height=4)\n",
    "ggsave(\"./figures/Figure3C.pdf\", plot=plot3C, scale=1, width=4, height=4)\n",
    "ggsave(\"./figures/Figure4A.pdf\", plot=plot4A, scale=1, width=4, height=4)\n",
    "ggsave(\"./figures/Figure4B.pdf\", plot=plot4B, scale=1, width=4, height=4)\n",
    "ggsave(\"./figures/Figure4C.pdf\", plot=plot4C, scale=1, width=4, height=4)\n",
    "ggsave(\"./figures/Figure4D.pdf\", plot=plot4D, scale=1, width=4, height=4)"
   ]
  },
  {
   "cell_type": "code",
   "execution_count": null,
   "metadata": {},
   "outputs": [],
   "source": []
  }
 ],
 "metadata": {
  "anaconda-cloud": {},
  "kernelspec": {
   "display_name": "R",
   "language": "R",
   "name": "ir"
  },
  "language_info": {
   "codemirror_mode": "r",
   "file_extension": ".r",
   "mimetype": "text/x-r-source",
   "name": "R",
   "pygments_lexer": "r",
   "version": "3.5.1"
  }
 },
 "nbformat": 4,
 "nbformat_minor": 1
}
